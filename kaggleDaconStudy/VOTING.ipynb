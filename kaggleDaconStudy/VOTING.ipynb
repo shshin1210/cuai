{
 "cells": [
  {
   "cell_type": "markdown",
   "metadata": {},
   "source": [
    "## 1. Libraries"
   ]
  },
  {
   "cell_type": "code",
   "execution_count": 1,
   "metadata": {},
   "outputs": [],
   "source": [
    "import pandas as pd\n",
    "import seaborn as sns\n",
    "import matplotlib.pyplot as plt\n",
    "import numpy as np\n",
    "\n",
    "from string import ascii_lowercase\n",
    "from itertools import combinations\n",
    "\n",
    "from sklearn.ensemble import RandomForestClassifier\n",
    "from sklearn.ensemble import  GradientBoostingClassifier\n",
    "\n",
    "from sklearn.ensemble import VotingClassifier\n",
    "from sklearn.model_selection import KFold\n",
    "from sklearn.model_selection import cross_val_score\n",
    "\n",
    "from IPython.display import Image"
   ]
  },
  {
   "cell_type": "markdown",
   "metadata": {},
   "source": [
    "## 2. Data"
   ]
  },
  {
   "cell_type": "code",
   "execution_count": 2,
   "metadata": {},
   "outputs": [],
   "source": [
    "train = pd.read_csv('C:/Users\\queenSSH/Desktop/학교/CUAI/235647_심리 성향 예측 AI 경진대회_data/open data/train.csv')\n",
    "test = pd.read_csv('C:/Users\\queenSSH/Desktop/학교/CUAI/235647_심리 성향 예측 AI 경진대회_data/open data/test_x.csv')"
   ]
  },
  {
   "cell_type": "markdown",
   "metadata": {},
   "source": [
    "## 3. EDA"
   ]
  },
  {
   "cell_type": "code",
   "execution_count": 3,
   "metadata": {},
   "outputs": [
    {
     "data": {
      "text/html": [
       "<div>\n",
       "<style scoped>\n",
       "    .dataframe tbody tr th:only-of-type {\n",
       "        vertical-align: middle;\n",
       "    }\n",
       "\n",
       "    .dataframe tbody tr th {\n",
       "        vertical-align: top;\n",
       "    }\n",
       "\n",
       "    .dataframe thead th {\n",
       "        text-align: right;\n",
       "    }\n",
       "</style>\n",
       "<table border=\"1\" class=\"dataframe\">\n",
       "  <thead>\n",
       "    <tr style=\"text-align: right;\">\n",
       "      <th></th>\n",
       "      <th>index</th>\n",
       "      <th>QaA</th>\n",
       "      <th>QaE</th>\n",
       "      <th>QbA</th>\n",
       "      <th>QbE</th>\n",
       "      <th>QcA</th>\n",
       "      <th>QcE</th>\n",
       "      <th>QdA</th>\n",
       "      <th>QdE</th>\n",
       "      <th>QeA</th>\n",
       "      <th>...</th>\n",
       "      <th>wr_04</th>\n",
       "      <th>wr_05</th>\n",
       "      <th>wr_06</th>\n",
       "      <th>wr_07</th>\n",
       "      <th>wr_08</th>\n",
       "      <th>wr_09</th>\n",
       "      <th>wr_10</th>\n",
       "      <th>wr_11</th>\n",
       "      <th>wr_12</th>\n",
       "      <th>wr_13</th>\n",
       "    </tr>\n",
       "  </thead>\n",
       "  <tbody>\n",
       "    <tr>\n",
       "      <th>0</th>\n",
       "      <td>0</td>\n",
       "      <td>3.0</td>\n",
       "      <td>363</td>\n",
       "      <td>4.0</td>\n",
       "      <td>1370</td>\n",
       "      <td>5.0</td>\n",
       "      <td>997</td>\n",
       "      <td>1.0</td>\n",
       "      <td>1024</td>\n",
       "      <td>2.0</td>\n",
       "      <td>...</td>\n",
       "      <td>0</td>\n",
       "      <td>1</td>\n",
       "      <td>0</td>\n",
       "      <td>1</td>\n",
       "      <td>1</td>\n",
       "      <td>0</td>\n",
       "      <td>1</td>\n",
       "      <td>0</td>\n",
       "      <td>1</td>\n",
       "      <td>1</td>\n",
       "    </tr>\n",
       "    <tr>\n",
       "      <th>1</th>\n",
       "      <td>1</td>\n",
       "      <td>5.0</td>\n",
       "      <td>647</td>\n",
       "      <td>5.0</td>\n",
       "      <td>1313</td>\n",
       "      <td>3.0</td>\n",
       "      <td>3387</td>\n",
       "      <td>5.0</td>\n",
       "      <td>2969</td>\n",
       "      <td>1.0</td>\n",
       "      <td>...</td>\n",
       "      <td>1</td>\n",
       "      <td>1</td>\n",
       "      <td>0</td>\n",
       "      <td>1</td>\n",
       "      <td>1</td>\n",
       "      <td>0</td>\n",
       "      <td>1</td>\n",
       "      <td>0</td>\n",
       "      <td>1</td>\n",
       "      <td>1</td>\n",
       "    </tr>\n",
       "    <tr>\n",
       "      <th>2</th>\n",
       "      <td>2</td>\n",
       "      <td>4.0</td>\n",
       "      <td>1623</td>\n",
       "      <td>1.0</td>\n",
       "      <td>1480</td>\n",
       "      <td>1.0</td>\n",
       "      <td>1021</td>\n",
       "      <td>4.0</td>\n",
       "      <td>3374</td>\n",
       "      <td>5.0</td>\n",
       "      <td>...</td>\n",
       "      <td>1</td>\n",
       "      <td>1</td>\n",
       "      <td>0</td>\n",
       "      <td>1</td>\n",
       "      <td>1</td>\n",
       "      <td>1</td>\n",
       "      <td>1</td>\n",
       "      <td>0</td>\n",
       "      <td>1</td>\n",
       "      <td>1</td>\n",
       "    </tr>\n",
       "    <tr>\n",
       "      <th>3</th>\n",
       "      <td>3</td>\n",
       "      <td>3.0</td>\n",
       "      <td>504</td>\n",
       "      <td>3.0</td>\n",
       "      <td>2311</td>\n",
       "      <td>4.0</td>\n",
       "      <td>992</td>\n",
       "      <td>3.0</td>\n",
       "      <td>3245</td>\n",
       "      <td>1.0</td>\n",
       "      <td>...</td>\n",
       "      <td>0</td>\n",
       "      <td>0</td>\n",
       "      <td>0</td>\n",
       "      <td>0</td>\n",
       "      <td>1</td>\n",
       "      <td>0</td>\n",
       "      <td>1</td>\n",
       "      <td>0</td>\n",
       "      <td>1</td>\n",
       "      <td>1</td>\n",
       "    </tr>\n",
       "    <tr>\n",
       "      <th>4</th>\n",
       "      <td>4</td>\n",
       "      <td>1.0</td>\n",
       "      <td>927</td>\n",
       "      <td>1.0</td>\n",
       "      <td>707</td>\n",
       "      <td>5.0</td>\n",
       "      <td>556</td>\n",
       "      <td>2.0</td>\n",
       "      <td>1062</td>\n",
       "      <td>1.0</td>\n",
       "      <td>...</td>\n",
       "      <td>1</td>\n",
       "      <td>1</td>\n",
       "      <td>1</td>\n",
       "      <td>1</td>\n",
       "      <td>1</td>\n",
       "      <td>0</td>\n",
       "      <td>1</td>\n",
       "      <td>1</td>\n",
       "      <td>1</td>\n",
       "      <td>1</td>\n",
       "    </tr>\n",
       "  </tbody>\n",
       "</table>\n",
       "<p>5 rows × 78 columns</p>\n",
       "</div>"
      ],
      "text/plain": [
       "   index  QaA   QaE  QbA   QbE  QcA   QcE  QdA   QdE  QeA  ...  wr_04  wr_05  \\\n",
       "0      0  3.0   363  4.0  1370  5.0   997  1.0  1024  2.0  ...      0      1   \n",
       "1      1  5.0   647  5.0  1313  3.0  3387  5.0  2969  1.0  ...      1      1   \n",
       "2      2  4.0  1623  1.0  1480  1.0  1021  4.0  3374  5.0  ...      1      1   \n",
       "3      3  3.0   504  3.0  2311  4.0   992  3.0  3245  1.0  ...      0      0   \n",
       "4      4  1.0   927  1.0   707  5.0   556  2.0  1062  1.0  ...      1      1   \n",
       "\n",
       "   wr_06  wr_07  wr_08  wr_09  wr_10  wr_11  wr_12  wr_13  \n",
       "0      0      1      1      0      1      0      1      1  \n",
       "1      0      1      1      0      1      0      1      1  \n",
       "2      0      1      1      1      1      0      1      1  \n",
       "3      0      0      1      0      1      0      1      1  \n",
       "4      1      1      1      0      1      1      1      1  \n",
       "\n",
       "[5 rows x 78 columns]"
      ]
     },
     "execution_count": 3,
     "metadata": {},
     "output_type": "execute_result"
    }
   ],
   "source": [
    "train.head()"
   ]
  },
  {
   "cell_type": "code",
   "execution_count": 4,
   "metadata": {},
   "outputs": [
    {
     "data": {
      "text/html": [
       "<div>\n",
       "<style scoped>\n",
       "    .dataframe tbody tr th:only-of-type {\n",
       "        vertical-align: middle;\n",
       "    }\n",
       "\n",
       "    .dataframe tbody tr th {\n",
       "        vertical-align: top;\n",
       "    }\n",
       "\n",
       "    .dataframe thead th {\n",
       "        text-align: right;\n",
       "    }\n",
       "</style>\n",
       "<table border=\"1\" class=\"dataframe\">\n",
       "  <thead>\n",
       "    <tr style=\"text-align: right;\">\n",
       "      <th></th>\n",
       "      <th>index</th>\n",
       "      <th>QaA</th>\n",
       "      <th>QaE</th>\n",
       "      <th>QbA</th>\n",
       "      <th>QbE</th>\n",
       "      <th>QcA</th>\n",
       "      <th>QcE</th>\n",
       "      <th>QdA</th>\n",
       "      <th>QdE</th>\n",
       "      <th>QeA</th>\n",
       "      <th>...</th>\n",
       "      <th>wr_04</th>\n",
       "      <th>wr_05</th>\n",
       "      <th>wr_06</th>\n",
       "      <th>wr_07</th>\n",
       "      <th>wr_08</th>\n",
       "      <th>wr_09</th>\n",
       "      <th>wr_10</th>\n",
       "      <th>wr_11</th>\n",
       "      <th>wr_12</th>\n",
       "      <th>wr_13</th>\n",
       "    </tr>\n",
       "  </thead>\n",
       "  <tbody>\n",
       "    <tr>\n",
       "      <th>0</th>\n",
       "      <td>0</td>\n",
       "      <td>3.0</td>\n",
       "      <td>736</td>\n",
       "      <td>2.0</td>\n",
       "      <td>2941</td>\n",
       "      <td>3.0</td>\n",
       "      <td>4621</td>\n",
       "      <td>1.0</td>\n",
       "      <td>4857</td>\n",
       "      <td>2.0</td>\n",
       "      <td>...</td>\n",
       "      <td>0</td>\n",
       "      <td>1</td>\n",
       "      <td>0</td>\n",
       "      <td>0</td>\n",
       "      <td>1</td>\n",
       "      <td>0</td>\n",
       "      <td>1</td>\n",
       "      <td>0</td>\n",
       "      <td>1</td>\n",
       "      <td>1</td>\n",
       "    </tr>\n",
       "    <tr>\n",
       "      <th>1</th>\n",
       "      <td>1</td>\n",
       "      <td>3.0</td>\n",
       "      <td>514</td>\n",
       "      <td>2.0</td>\n",
       "      <td>1952</td>\n",
       "      <td>3.0</td>\n",
       "      <td>1552</td>\n",
       "      <td>3.0</td>\n",
       "      <td>821</td>\n",
       "      <td>4.0</td>\n",
       "      <td>...</td>\n",
       "      <td>0</td>\n",
       "      <td>0</td>\n",
       "      <td>0</td>\n",
       "      <td>0</td>\n",
       "      <td>0</td>\n",
       "      <td>0</td>\n",
       "      <td>0</td>\n",
       "      <td>0</td>\n",
       "      <td>0</td>\n",
       "      <td>0</td>\n",
       "    </tr>\n",
       "    <tr>\n",
       "      <th>2</th>\n",
       "      <td>2</td>\n",
       "      <td>3.0</td>\n",
       "      <td>500</td>\n",
       "      <td>2.0</td>\n",
       "      <td>2507</td>\n",
       "      <td>4.0</td>\n",
       "      <td>480</td>\n",
       "      <td>2.0</td>\n",
       "      <td>614</td>\n",
       "      <td>2.0</td>\n",
       "      <td>...</td>\n",
       "      <td>0</td>\n",
       "      <td>1</td>\n",
       "      <td>0</td>\n",
       "      <td>1</td>\n",
       "      <td>1</td>\n",
       "      <td>0</td>\n",
       "      <td>1</td>\n",
       "      <td>0</td>\n",
       "      <td>1</td>\n",
       "      <td>1</td>\n",
       "    </tr>\n",
       "    <tr>\n",
       "      <th>3</th>\n",
       "      <td>3</td>\n",
       "      <td>1.0</td>\n",
       "      <td>669</td>\n",
       "      <td>1.0</td>\n",
       "      <td>1050</td>\n",
       "      <td>5.0</td>\n",
       "      <td>1435</td>\n",
       "      <td>2.0</td>\n",
       "      <td>2252</td>\n",
       "      <td>5.0</td>\n",
       "      <td>...</td>\n",
       "      <td>1</td>\n",
       "      <td>1</td>\n",
       "      <td>1</td>\n",
       "      <td>1</td>\n",
       "      <td>1</td>\n",
       "      <td>1</td>\n",
       "      <td>1</td>\n",
       "      <td>1</td>\n",
       "      <td>1</td>\n",
       "      <td>1</td>\n",
       "    </tr>\n",
       "    <tr>\n",
       "      <th>4</th>\n",
       "      <td>4</td>\n",
       "      <td>2.0</td>\n",
       "      <td>499</td>\n",
       "      <td>1.0</td>\n",
       "      <td>1243</td>\n",
       "      <td>5.0</td>\n",
       "      <td>845</td>\n",
       "      <td>2.0</td>\n",
       "      <td>1666</td>\n",
       "      <td>2.0</td>\n",
       "      <td>...</td>\n",
       "      <td>1</td>\n",
       "      <td>1</td>\n",
       "      <td>0</td>\n",
       "      <td>1</td>\n",
       "      <td>1</td>\n",
       "      <td>0</td>\n",
       "      <td>1</td>\n",
       "      <td>1</td>\n",
       "      <td>1</td>\n",
       "      <td>1</td>\n",
       "    </tr>\n",
       "  </tbody>\n",
       "</table>\n",
       "<p>5 rows × 77 columns</p>\n",
       "</div>"
      ],
      "text/plain": [
       "   index  QaA  QaE  QbA   QbE  QcA   QcE  QdA   QdE  QeA  ...  wr_04  wr_05  \\\n",
       "0      0  3.0  736  2.0  2941  3.0  4621  1.0  4857  2.0  ...      0      1   \n",
       "1      1  3.0  514  2.0  1952  3.0  1552  3.0   821  4.0  ...      0      0   \n",
       "2      2  3.0  500  2.0  2507  4.0   480  2.0   614  2.0  ...      0      1   \n",
       "3      3  1.0  669  1.0  1050  5.0  1435  2.0  2252  5.0  ...      1      1   \n",
       "4      4  2.0  499  1.0  1243  5.0   845  2.0  1666  2.0  ...      1      1   \n",
       "\n",
       "   wr_06  wr_07  wr_08  wr_09  wr_10  wr_11  wr_12  wr_13  \n",
       "0      0      0      1      0      1      0      1      1  \n",
       "1      0      0      0      0      0      0      0      0  \n",
       "2      0      1      1      0      1      0      1      1  \n",
       "3      1      1      1      1      1      1      1      1  \n",
       "4      0      1      1      0      1      1      1      1  \n",
       "\n",
       "[5 rows x 77 columns]"
      ]
     },
     "execution_count": 4,
     "metadata": {},
     "output_type": "execute_result"
    }
   ],
   "source": [
    "test.head()"
   ]
  },
  {
   "cell_type": "code",
   "execution_count": 5,
   "metadata": {},
   "outputs": [
    {
     "name": "stdout",
     "output_type": "stream",
     "text": [
      "['index', 'QaA', 'QaE', 'QbA', 'QbE', 'QcA', 'QcE', 'QdA', 'QdE', 'QeA', 'QeE', 'QfA', 'QfE', 'QgA', 'QgE', 'QhA', 'QhE', 'QiA', 'QiE', 'QjA', 'QjE', 'QkA', 'QkE', 'QlA', 'QlE', 'QmA', 'QmE', 'QnA', 'QnE', 'QoA', 'QoE', 'QpA', 'QpE', 'QqA', 'QqE', 'QrA', 'QrE', 'QsA', 'QsE', 'QtA', 'QtE', 'age_group', 'education', 'engnat', 'familysize', 'gender', 'hand', 'married', 'race', 'religion', 'tp01', 'tp02', 'tp03', 'tp04', 'tp05', 'tp06', 'tp07', 'tp08', 'tp09', 'tp10', 'urban', 'voted', 'wf_01', 'wf_02', 'wf_03', 'wr_01', 'wr_02', 'wr_03', 'wr_04', 'wr_05', 'wr_06', 'wr_07', 'wr_08', 'wr_09', 'wr_10', 'wr_11', 'wr_12', 'wr_13']\n"
     ]
    }
   ],
   "source": [
    "print(train.columns.tolist())"
   ]
  },
  {
   "cell_type": "markdown",
   "metadata": {},
   "source": [
    "Columns\n",
    "\n",
    "'QaA', 'QaE', 'QbA', 'QbE', 'QcA', 'QcE', 'QdA', 'QdE', 'QeA', 'QeE', 'QfA', 'QfE', 'QgA', 'QgE', 'QhA', 'QhE', 'QiA', 'QiE', 'QjA', 'QjE', 'QkA', 'QkE', 'QlA', 'QlE', 'QmA', 'QmE', 'QnA', 'QnE', 'QoA', 'QoE', 'QpA', 'QpE', 'QqA', 'QqE', 'QrA', 'QrE', 'QsA', 'QsE', 'QtA', 'QtE',\n",
    "\n",
    "'age_group', 'education', 'engnat', 'familysize', 'gender', 'hand', 'married', 'race', 'religion',\n",
    "\n",
    "'tp01', 'tp02', 'tp03', 'tp04', 'tp05', 'tp06', 'tp07', 'tp08', 'tp09', 'tp10',\n",
    "\n",
    "'wf_01', 'wf_02', 'wf_03', 'wr_01', 'wr_02', 'wr_03', 'wr_04', 'wr_05', 'wr_06', 'wr_07', 'wr_08', 'wr_09', 'wr_10', 'wr_11', 'wr_12', 'wr_13'\n",
    "\n",
    "urban', 'voted'"
   ]
  },
  {
   "cell_type": "code",
   "execution_count": 6,
   "metadata": {},
   "outputs": [
    {
     "name": "stdout",
     "output_type": "stream",
     "text": [
      "<class 'pandas.core.frame.DataFrame'>\n",
      "RangeIndex: 11383 entries, 0 to 11382\n",
      "Data columns (total 77 columns):\n",
      " #   Column      Non-Null Count  Dtype  \n",
      "---  ------      --------------  -----  \n",
      " 0   index       11383 non-null  int64  \n",
      " 1   QaA         11383 non-null  float64\n",
      " 2   QaE         11383 non-null  int64  \n",
      " 3   QbA         11383 non-null  float64\n",
      " 4   QbE         11383 non-null  int64  \n",
      " 5   QcA         11383 non-null  float64\n",
      " 6   QcE         11383 non-null  int64  \n",
      " 7   QdA         11383 non-null  float64\n",
      " 8   QdE         11383 non-null  int64  \n",
      " 9   QeA         11383 non-null  float64\n",
      " 10  QeE         11383 non-null  int64  \n",
      " 11  QfA         11383 non-null  float64\n",
      " 12  QfE         11383 non-null  int64  \n",
      " 13  QgA         11383 non-null  float64\n",
      " 14  QgE         11383 non-null  int64  \n",
      " 15  QhA         11383 non-null  float64\n",
      " 16  QhE         11383 non-null  int64  \n",
      " 17  QiA         11383 non-null  float64\n",
      " 18  QiE         11383 non-null  int64  \n",
      " 19  QjA         11383 non-null  float64\n",
      " 20  QjE         11383 non-null  int64  \n",
      " 21  QkA         11383 non-null  float64\n",
      " 22  QkE         11383 non-null  int64  \n",
      " 23  QlA         11383 non-null  float64\n",
      " 24  QlE         11383 non-null  int64  \n",
      " 25  QmA         11383 non-null  float64\n",
      " 26  QmE         11383 non-null  int64  \n",
      " 27  QnA         11383 non-null  float64\n",
      " 28  QnE         11383 non-null  int64  \n",
      " 29  QoA         11383 non-null  float64\n",
      " 30  QoE         11383 non-null  int64  \n",
      " 31  QpA         11383 non-null  float64\n",
      " 32  QpE         11383 non-null  int64  \n",
      " 33  QqA         11383 non-null  float64\n",
      " 34  QqE         11383 non-null  int64  \n",
      " 35  QrA         11383 non-null  float64\n",
      " 36  QrE         11383 non-null  int64  \n",
      " 37  QsA         11383 non-null  float64\n",
      " 38  QsE         11383 non-null  int64  \n",
      " 39  QtA         11383 non-null  float64\n",
      " 40  QtE         11383 non-null  int64  \n",
      " 41  age_group   11383 non-null  object \n",
      " 42  education   11383 non-null  int64  \n",
      " 43  engnat      11383 non-null  int64  \n",
      " 44  familysize  11383 non-null  int64  \n",
      " 45  gender      11383 non-null  object \n",
      " 46  hand        11383 non-null  int64  \n",
      " 47  married     11383 non-null  int64  \n",
      " 48  race        11383 non-null  object \n",
      " 49  religion    11383 non-null  object \n",
      " 50  tp01        11383 non-null  int64  \n",
      " 51  tp02        11383 non-null  int64  \n",
      " 52  tp03        11383 non-null  int64  \n",
      " 53  tp04        11383 non-null  int64  \n",
      " 54  tp05        11383 non-null  int64  \n",
      " 55  tp06        11383 non-null  int64  \n",
      " 56  tp07        11383 non-null  int64  \n",
      " 57  tp08        11383 non-null  int64  \n",
      " 58  tp09        11383 non-null  int64  \n",
      " 59  tp10        11383 non-null  int64  \n",
      " 60  urban       11383 non-null  int64  \n",
      " 61  wf_01       11383 non-null  int64  \n",
      " 62  wf_02       11383 non-null  int64  \n",
      " 63  wf_03       11383 non-null  int64  \n",
      " 64  wr_01       11383 non-null  int64  \n",
      " 65  wr_02       11383 non-null  int64  \n",
      " 66  wr_03       11383 non-null  int64  \n",
      " 67  wr_04       11383 non-null  int64  \n",
      " 68  wr_05       11383 non-null  int64  \n",
      " 69  wr_06       11383 non-null  int64  \n",
      " 70  wr_07       11383 non-null  int64  \n",
      " 71  wr_08       11383 non-null  int64  \n",
      " 72  wr_09       11383 non-null  int64  \n",
      " 73  wr_10       11383 non-null  int64  \n",
      " 74  wr_11       11383 non-null  int64  \n",
      " 75  wr_12       11383 non-null  int64  \n",
      " 76  wr_13       11383 non-null  int64  \n",
      "dtypes: float64(20), int64(53), object(4)\n",
      "memory usage: 6.7+ MB\n"
     ]
    }
   ],
   "source": [
    "test.info()"
   ]
  },
  {
   "cell_type": "code",
   "execution_count": 7,
   "metadata": {},
   "outputs": [
    {
     "data": {
      "text/plain": [
       "index    0\n",
       "QaA      0\n",
       "QaE      0\n",
       "QbA      0\n",
       "QbE      0\n",
       "        ..\n",
       "wr_09    0\n",
       "wr_10    0\n",
       "wr_11    0\n",
       "wr_12    0\n",
       "wr_13    0\n",
       "Length: 78, dtype: int64"
      ]
     },
     "execution_count": 7,
     "metadata": {},
     "output_type": "execute_result"
    }
   ],
   "source": [
    "train.isnull().sum()"
   ]
  },
  {
   "cell_type": "code",
   "execution_count": 8,
   "metadata": {},
   "outputs": [
    {
     "name": "stdout",
     "output_type": "stream",
     "text": [
      "<class 'pandas.core.frame.DataFrame'>\n",
      "RangeIndex: 11383 entries, 0 to 11382\n",
      "Data columns (total 77 columns):\n",
      " #   Column      Non-Null Count  Dtype  \n",
      "---  ------      --------------  -----  \n",
      " 0   index       11383 non-null  int64  \n",
      " 1   QaA         11383 non-null  float64\n",
      " 2   QaE         11383 non-null  int64  \n",
      " 3   QbA         11383 non-null  float64\n",
      " 4   QbE         11383 non-null  int64  \n",
      " 5   QcA         11383 non-null  float64\n",
      " 6   QcE         11383 non-null  int64  \n",
      " 7   QdA         11383 non-null  float64\n",
      " 8   QdE         11383 non-null  int64  \n",
      " 9   QeA         11383 non-null  float64\n",
      " 10  QeE         11383 non-null  int64  \n",
      " 11  QfA         11383 non-null  float64\n",
      " 12  QfE         11383 non-null  int64  \n",
      " 13  QgA         11383 non-null  float64\n",
      " 14  QgE         11383 non-null  int64  \n",
      " 15  QhA         11383 non-null  float64\n",
      " 16  QhE         11383 non-null  int64  \n",
      " 17  QiA         11383 non-null  float64\n",
      " 18  QiE         11383 non-null  int64  \n",
      " 19  QjA         11383 non-null  float64\n",
      " 20  QjE         11383 non-null  int64  \n",
      " 21  QkA         11383 non-null  float64\n",
      " 22  QkE         11383 non-null  int64  \n",
      " 23  QlA         11383 non-null  float64\n",
      " 24  QlE         11383 non-null  int64  \n",
      " 25  QmA         11383 non-null  float64\n",
      " 26  QmE         11383 non-null  int64  \n",
      " 27  QnA         11383 non-null  float64\n",
      " 28  QnE         11383 non-null  int64  \n",
      " 29  QoA         11383 non-null  float64\n",
      " 30  QoE         11383 non-null  int64  \n",
      " 31  QpA         11383 non-null  float64\n",
      " 32  QpE         11383 non-null  int64  \n",
      " 33  QqA         11383 non-null  float64\n",
      " 34  QqE         11383 non-null  int64  \n",
      " 35  QrA         11383 non-null  float64\n",
      " 36  QrE         11383 non-null  int64  \n",
      " 37  QsA         11383 non-null  float64\n",
      " 38  QsE         11383 non-null  int64  \n",
      " 39  QtA         11383 non-null  float64\n",
      " 40  QtE         11383 non-null  int64  \n",
      " 41  age_group   11383 non-null  object \n",
      " 42  education   11383 non-null  int64  \n",
      " 43  engnat      11383 non-null  int64  \n",
      " 44  familysize  11383 non-null  int64  \n",
      " 45  gender      11383 non-null  object \n",
      " 46  hand        11383 non-null  int64  \n",
      " 47  married     11383 non-null  int64  \n",
      " 48  race        11383 non-null  object \n",
      " 49  religion    11383 non-null  object \n",
      " 50  tp01        11383 non-null  int64  \n",
      " 51  tp02        11383 non-null  int64  \n",
      " 52  tp03        11383 non-null  int64  \n",
      " 53  tp04        11383 non-null  int64  \n",
      " 54  tp05        11383 non-null  int64  \n",
      " 55  tp06        11383 non-null  int64  \n",
      " 56  tp07        11383 non-null  int64  \n",
      " 57  tp08        11383 non-null  int64  \n",
      " 58  tp09        11383 non-null  int64  \n",
      " 59  tp10        11383 non-null  int64  \n",
      " 60  urban       11383 non-null  int64  \n",
      " 61  wf_01       11383 non-null  int64  \n",
      " 62  wf_02       11383 non-null  int64  \n",
      " 63  wf_03       11383 non-null  int64  \n",
      " 64  wr_01       11383 non-null  int64  \n",
      " 65  wr_02       11383 non-null  int64  \n",
      " 66  wr_03       11383 non-null  int64  \n",
      " 67  wr_04       11383 non-null  int64  \n",
      " 68  wr_05       11383 non-null  int64  \n",
      " 69  wr_06       11383 non-null  int64  \n",
      " 70  wr_07       11383 non-null  int64  \n",
      " 71  wr_08       11383 non-null  int64  \n",
      " 72  wr_09       11383 non-null  int64  \n",
      " 73  wr_10       11383 non-null  int64  \n",
      " 74  wr_11       11383 non-null  int64  \n",
      " 75  wr_12       11383 non-null  int64  \n",
      " 76  wr_13       11383 non-null  int64  \n",
      "dtypes: float64(20), int64(53), object(4)\n",
      "memory usage: 6.7+ MB\n"
     ]
    }
   ],
   "source": [
    "test.info()"
   ]
  },
  {
   "cell_type": "markdown",
   "metadata": {},
   "source": [
    "### 데이터 설명\n",
    "\n",
    "#### 1. Q_A / Q_E (a~t) 비식별화를 위해 일부 질문은 Secret 처리\n",
    "Qa : Secret\n",
    "Qb : The biggest difference between most criminals and other people is that the criminals are stupid enough to get caught.\n",
    "Qc : Anyone who completely trusts anyone else is asking for trouble.\n",
    ".\n",
    ".\n",
    ".\n",
    "\n",
    "1=Disagree, 2=Slightly disagree, 3=Neutral, 4=Slightly agree, 5=Agree.\n",
    "\n",
    "\n",
    "#### 2. Q_E(a~t) : 질문을 답할 때까지의 시간\n",
    "\n",
    "#### 3. education : 교육 수준\n",
    "1=Less than high school, 2=High school, 3=University degree, 4=Graduate degree, 0=무응답\n",
    "\n",
    "#### 4. engnat : 모국어가 영어\n",
    "1=Yes, 2=No, 0=무응답\n",
    "\n",
    "#### 5. hand : 필기하는 손\n",
    "1=Right, 2=Left, 3=Both, 0=무응답\n",
    "\n",
    "#### 6. tp__(01~07) : items were rated \"I see myself as:\" _____ such that\n",
    "tp01 : Extraverted, enthusiastic.\n",
    "tp02 : Critical, quarrelsome.\n",
    "tp03 : Dependable, self-disciplined.\n",
    "tp04 : Anxious, easily upset.\n",
    "tp05 : Open to new experiences, complex.\n",
    "tp06 : Reserved, quiet.\n",
    "tp07 : Sympathetic, warm.\n",
    "tp08 : Disorganized, careless.\n",
    "tp09 : Calm, emotionally stable.\n",
    "tp10 : Conventional, uncreative.\n",
    "\n",
    "#### 7. urban : 유년기의 거주 구역\n",
    "1=Rural (country side), 2=Suburban, 3=Urban (town, city), 0=무응답\n",
    "\n",
    "#### 8. wr_(01~13) : 실존하는 해당 단어의 정의을 앎\n",
    "1=Yes, 0=No\n",
    "\n",
    "#### 9. wf_(01~03) : 허구인 단어의 정의를 앎\n",
    "1=Yes, 0=No\n"
   ]
  },
  {
   "cell_type": "code",
   "execution_count": 9,
   "metadata": {},
   "outputs": [],
   "source": [
    "eda_train = train.copy()"
   ]
  },
  {
   "cell_type": "code",
   "execution_count": 10,
   "metadata": {},
   "outputs": [],
   "source": [
    "Answers = ['QaA', 'QbA', 'QcA', 'QdA', 'QeA',\n",
    "             'QfA', 'QgA', 'QhA', 'QiA', 'QjA', \n",
    "             'QkA', 'QlA', 'QmA', 'QnA', 'QoA', \n",
    "             'QpA', 'QqA', 'QrA', 'QsA', 'QtA']"
   ]
  },
  {
   "cell_type": "code",
   "execution_count": 12,
   "metadata": {},
   "outputs": [
    {
     "data": {
      "text/html": [
       "<div>\n",
       "<style scoped>\n",
       "    .dataframe tbody tr th:only-of-type {\n",
       "        vertical-align: middle;\n",
       "    }\n",
       "\n",
       "    .dataframe tbody tr th {\n",
       "        vertical-align: top;\n",
       "    }\n",
       "\n",
       "    .dataframe thead th {\n",
       "        text-align: right;\n",
       "    }\n",
       "</style>\n",
       "<table border=\"1\" class=\"dataframe\">\n",
       "  <thead>\n",
       "    <tr style=\"text-align: right;\">\n",
       "      <th></th>\n",
       "      <th>index</th>\n",
       "      <th>QaA</th>\n",
       "      <th>QaE</th>\n",
       "      <th>QbA</th>\n",
       "      <th>QbE</th>\n",
       "      <th>QcA</th>\n",
       "      <th>QcE</th>\n",
       "      <th>QdA</th>\n",
       "      <th>QdE</th>\n",
       "      <th>QeA</th>\n",
       "      <th>...</th>\n",
       "      <th>wr_04</th>\n",
       "      <th>wr_05</th>\n",
       "      <th>wr_06</th>\n",
       "      <th>wr_07</th>\n",
       "      <th>wr_08</th>\n",
       "      <th>wr_09</th>\n",
       "      <th>wr_10</th>\n",
       "      <th>wr_11</th>\n",
       "      <th>wr_12</th>\n",
       "      <th>wr_13</th>\n",
       "    </tr>\n",
       "  </thead>\n",
       "  <tbody>\n",
       "    <tr>\n",
       "      <th>0</th>\n",
       "      <td>0</td>\n",
       "      <td>3.0</td>\n",
       "      <td>363</td>\n",
       "      <td>4.0</td>\n",
       "      <td>1370</td>\n",
       "      <td>5.0</td>\n",
       "      <td>997</td>\n",
       "      <td>1.0</td>\n",
       "      <td>1024</td>\n",
       "      <td>2.0</td>\n",
       "      <td>...</td>\n",
       "      <td>0</td>\n",
       "      <td>1</td>\n",
       "      <td>0</td>\n",
       "      <td>1</td>\n",
       "      <td>1</td>\n",
       "      <td>0</td>\n",
       "      <td>1</td>\n",
       "      <td>0</td>\n",
       "      <td>1</td>\n",
       "      <td>1</td>\n",
       "    </tr>\n",
       "    <tr>\n",
       "      <th>1</th>\n",
       "      <td>1</td>\n",
       "      <td>5.0</td>\n",
       "      <td>647</td>\n",
       "      <td>5.0</td>\n",
       "      <td>1313</td>\n",
       "      <td>3.0</td>\n",
       "      <td>3387</td>\n",
       "      <td>5.0</td>\n",
       "      <td>2969</td>\n",
       "      <td>1.0</td>\n",
       "      <td>...</td>\n",
       "      <td>1</td>\n",
       "      <td>1</td>\n",
       "      <td>0</td>\n",
       "      <td>1</td>\n",
       "      <td>1</td>\n",
       "      <td>0</td>\n",
       "      <td>1</td>\n",
       "      <td>0</td>\n",
       "      <td>1</td>\n",
       "      <td>1</td>\n",
       "    </tr>\n",
       "    <tr>\n",
       "      <th>2</th>\n",
       "      <td>2</td>\n",
       "      <td>4.0</td>\n",
       "      <td>1623</td>\n",
       "      <td>1.0</td>\n",
       "      <td>1480</td>\n",
       "      <td>1.0</td>\n",
       "      <td>1021</td>\n",
       "      <td>4.0</td>\n",
       "      <td>3374</td>\n",
       "      <td>5.0</td>\n",
       "      <td>...</td>\n",
       "      <td>1</td>\n",
       "      <td>1</td>\n",
       "      <td>0</td>\n",
       "      <td>1</td>\n",
       "      <td>1</td>\n",
       "      <td>1</td>\n",
       "      <td>1</td>\n",
       "      <td>0</td>\n",
       "      <td>1</td>\n",
       "      <td>1</td>\n",
       "    </tr>\n",
       "    <tr>\n",
       "      <th>3</th>\n",
       "      <td>3</td>\n",
       "      <td>3.0</td>\n",
       "      <td>504</td>\n",
       "      <td>3.0</td>\n",
       "      <td>2311</td>\n",
       "      <td>4.0</td>\n",
       "      <td>992</td>\n",
       "      <td>3.0</td>\n",
       "      <td>3245</td>\n",
       "      <td>1.0</td>\n",
       "      <td>...</td>\n",
       "      <td>0</td>\n",
       "      <td>0</td>\n",
       "      <td>0</td>\n",
       "      <td>0</td>\n",
       "      <td>1</td>\n",
       "      <td>0</td>\n",
       "      <td>1</td>\n",
       "      <td>0</td>\n",
       "      <td>1</td>\n",
       "      <td>1</td>\n",
       "    </tr>\n",
       "    <tr>\n",
       "      <th>4</th>\n",
       "      <td>4</td>\n",
       "      <td>1.0</td>\n",
       "      <td>927</td>\n",
       "      <td>1.0</td>\n",
       "      <td>707</td>\n",
       "      <td>5.0</td>\n",
       "      <td>556</td>\n",
       "      <td>2.0</td>\n",
       "      <td>1062</td>\n",
       "      <td>1.0</td>\n",
       "      <td>...</td>\n",
       "      <td>1</td>\n",
       "      <td>1</td>\n",
       "      <td>1</td>\n",
       "      <td>1</td>\n",
       "      <td>1</td>\n",
       "      <td>0</td>\n",
       "      <td>1</td>\n",
       "      <td>1</td>\n",
       "      <td>1</td>\n",
       "      <td>1</td>\n",
       "    </tr>\n",
       "  </tbody>\n",
       "</table>\n",
       "<p>5 rows × 78 columns</p>\n",
       "</div>"
      ],
      "text/plain": [
       "   index  QaA   QaE  QbA   QbE  QcA   QcE  QdA   QdE  QeA  ...  wr_04  wr_05  \\\n",
       "0      0  3.0   363  4.0  1370  5.0   997  1.0  1024  2.0  ...      0      1   \n",
       "1      1  5.0   647  5.0  1313  3.0  3387  5.0  2969  1.0  ...      1      1   \n",
       "2      2  4.0  1623  1.0  1480  1.0  1021  4.0  3374  5.0  ...      1      1   \n",
       "3      3  3.0   504  3.0  2311  4.0   992  3.0  3245  1.0  ...      0      0   \n",
       "4      4  1.0   927  1.0   707  5.0   556  2.0  1062  1.0  ...      1      1   \n",
       "\n",
       "   wr_06  wr_07  wr_08  wr_09  wr_10  wr_11  wr_12  wr_13  \n",
       "0      0      1      1      0      1      0      1      1  \n",
       "1      0      1      1      0      1      0      1      1  \n",
       "2      0      1      1      1      1      0      1      1  \n",
       "3      0      0      1      0      1      0      1      1  \n",
       "4      1      1      1      0      1      1      1      1  \n",
       "\n",
       "[5 rows x 78 columns]"
      ]
     },
     "execution_count": 12,
     "metadata": {},
     "output_type": "execute_result"
    }
   ],
   "source": [
    "eda_train.head()"
   ]
  },
  {
   "cell_type": "code",
   "execution_count": 13,
   "metadata": {},
   "outputs": [
    {
     "data": {
      "text/plain": [
       "'abcdefghijklmnopqrstuvwxyz'"
      ]
     },
     "execution_count": 13,
     "metadata": {},
     "output_type": "execute_result"
    }
   ],
   "source": [
    "ascii_lowercase"
   ]
  },
  {
   "cell_type": "markdown",
   "metadata": {},
   "source": [
    "delay column = QaA ~ QtA column\n",
    "\n",
    "delay column 들의 분포를 고르게 해주기 위해 10승 루트를 해준다 (log보다 나은 결과)"
   ]
  },
  {
   "cell_type": "code",
   "execution_count": 14,
   "metadata": {},
   "outputs": [],
   "source": [
    "questions = [i for i in list(ascii_lowercase)[:20]]\n",
    "eda_train['delay'] = eda_train[[('Q'+i+'E') for i in questions]].sum(axis=1)"
   ]
  },
  {
   "cell_type": "code",
   "execution_count": 15,
   "metadata": {},
   "outputs": [
    {
     "name": "stderr",
     "output_type": "stream",
     "text": [
      "C:\\Users\\queenSSH\\anaconda3\\lib\\site-packages\\seaborn\\distributions.py:2551: FutureWarning: `distplot` is a deprecated function and will be removed in a future version. Please adapt your code to use either `displot` (a figure-level function with similar flexibility) or `histplot` (an axes-level function for histograms).\n",
      "  warnings.warn(msg, FutureWarning)\n",
      "C:\\Users\\queenSSH\\anaconda3\\lib\\site-packages\\seaborn\\distributions.py:2055: FutureWarning: The `axis` variable is no longer used and will be removed. Instead, assign variables directly to `x` or `y`.\n",
      "  warnings.warn(msg, FutureWarning)\n"
     ]
    },
    {
     "data": {
      "text/plain": [
       "<AxesSubplot:xlabel='delay', ylabel='Density'>"
      ]
     },
     "execution_count": 15,
     "metadata": {},
     "output_type": "execute_result"
    },
    {
     "data": {
      "image/png": "[encoded data removed]",
      "text/plain": [
       "<Figure size 432x288 with 1 Axes>"
      ]
     },
     "metadata": {
      "needs_background": "light"
     },
     "output_type": "display_data"
    }
   ],
   "source": [
    "sns.distplot(eda_train['delay'], rug = True)"
   ]
  },
  {
   "cell_type": "code",
   "execution_count": 16,
   "metadata": {},
   "outputs": [
    {
     "name": "stderr",
     "output_type": "stream",
     "text": [
      "C:\\Users\\queenSSH\\anaconda3\\lib\\site-packages\\seaborn\\distributions.py:2551: FutureWarning: `distplot` is a deprecated function and will be removed in a future version. Please adapt your code to use either `displot` (a figure-level function with similar flexibility) or `histplot` (an axes-level function for histograms).\n",
      "  warnings.warn(msg, FutureWarning)\n",
      "C:\\Users\\queenSSH\\anaconda3\\lib\\site-packages\\seaborn\\distributions.py:2055: FutureWarning: The `axis` variable is no longer used and will be removed. Instead, assign variables directly to `x` or `y`.\n",
      "  warnings.warn(msg, FutureWarning)\n"
     ]
    },
    {
     "data": {
      "text/plain": [
       "<AxesSubplot:xlabel='delay', ylabel='Density'>"
      ]
     },
     "execution_count": 16,
     "metadata": {},
     "output_type": "execute_result"
    },
    {
     "data": {
      "image/png": "[encoded data removed]",
      "text/plain": [
       "<Figure size 432x288 with 1 Axes>"
      ]
     },
     "metadata": {
      "needs_background": "light"
     },
     "output_type": "display_data"
    }
   ],
   "source": [
    "eda_train['delay'] = np.log(eda_train['delay'])\n",
    "sns.distplot(eda_train['delay'], rug = True)"
   ]
  },
  {
   "cell_type": "code",
   "execution_count": 17,
   "metadata": {},
   "outputs": [
    {
     "name": "stderr",
     "output_type": "stream",
     "text": [
      "C:\\Users\\queenSSH\\anaconda3\\lib\\site-packages\\seaborn\\distributions.py:2551: FutureWarning: `distplot` is a deprecated function and will be removed in a future version. Please adapt your code to use either `displot` (a figure-level function with similar flexibility) or `histplot` (an axes-level function for histograms).\n",
      "  warnings.warn(msg, FutureWarning)\n",
      "C:\\Users\\queenSSH\\anaconda3\\lib\\site-packages\\seaborn\\distributions.py:2055: FutureWarning: The `axis` variable is no longer used and will be removed. Instead, assign variables directly to `x` or `y`.\n",
      "  warnings.warn(msg, FutureWarning)\n"
     ]
    },
    {
     "data": {
      "text/plain": [
       "<AxesSubplot:xlabel='delay', ylabel='Density'>"
      ]
     },
     "execution_count": 17,
     "metadata": {},
     "output_type": "execute_result"
    },
    {
     "data": {
      "image/png": "[encoded data removed]",
      "text/plain": [
       "<Figure size 432x288 with 1 Axes>"
      ]
     },
     "metadata": {
      "needs_background": "light"
     },
     "output_type": "display_data"
    }
   ],
   "source": [
    "eda_train['delay'] = eda_train['delay'] **(1/10)\n",
    "sns.distplot(eda_train['delay'], rug = True)"
   ]
  },
  {
   "cell_type": "markdown",
   "metadata": {},
   "source": [
    "### other features"
   ]
  },
  {
   "cell_type": "code",
   "execution_count": 18,
   "metadata": {},
   "outputs": [
    {
     "data": {
      "text/plain": [
       "0        2\n",
       "1        2\n",
       "2        1\n",
       "3        1\n",
       "4        1\n",
       "        ..\n",
       "45527    2\n",
       "45528    2\n",
       "45529    1\n",
       "45530    1\n",
       "45531    1\n",
       "Name: voted, Length: 45532, dtype: int64"
      ]
     },
     "execution_count": 18,
     "metadata": {},
     "output_type": "execute_result"
    }
   ],
   "source": [
    "eda_train['voted']"
   ]
  },
  {
   "cell_type": "code",
   "execution_count": 19,
   "metadata": {},
   "outputs": [],
   "source": [
    "voted = eda_train[eda_train['voted']==1]\n",
    "unvoted = eda_train[eda_train['voted']==2]"
   ]
  },
  {
   "cell_type": "markdown",
   "metadata": {},
   "source": [
    "나이대 별로 투표의 유무 확인\n",
    "\n",
    "10대 투표율이 굉장히 낮음"
   ]
  },
  {
   "cell_type": "code",
   "execution_count": 20,
   "metadata": {},
   "outputs": [
    {
     "data": {
      "text/plain": [
       "<AxesSubplot:xlabel='age_group', ylabel='count'>"
      ]
     },
     "execution_count": 20,
     "metadata": {},
     "output_type": "execute_result"
    },
    {
     "data": {
      "image/png": "[encoded data removed]",
      "text/plain": [
       "<Figure size 576x432 with 1 Axes>"
      ]
     },
     "metadata": {
      "needs_background": "light"
     },
     "output_type": "display_data"
    }
   ],
   "source": [
    "plt.figure(figsize = (8,6))\n",
    "sns.countplot(data = eda_train, x = 'age_group', hue = eda_train['voted'])"
   ]
  },
  {
   "cell_type": "markdown",
   "metadata": {},
   "source": [
    "결혼의 유무로 투표 유무 확인\n",
    "\n",
    "1=Never married, 2=Currently married, 3=Previously married, 0=Other\n",
    "\n",
    "결혼안할수록 투표율 높음"
   ]
  },
  {
   "cell_type": "code",
   "execution_count": 21,
   "metadata": {},
   "outputs": [
    {
     "data": {
      "text/plain": [
       "<AxesSubplot:xlabel='married', ylabel='count'>"
      ]
     },
     "execution_count": 21,
     "metadata": {},
     "output_type": "execute_result"
    },
    {
     "data": {
      "image/png": "[encoded data removed]",
      "text/plain": [
       "<Figure size 576x432 with 1 Axes>"
      ]
     },
     "metadata": {
      "needs_background": "light"
     },
     "output_type": "display_data"
    }
   ],
   "source": [
    "plt.figure(figsize = (8,6))\n",
    "sns.countplot(data = eda_train, x = 'married', hue = eda_train['voted'])"
   ]
  },
  {
   "cell_type": "markdown",
   "metadata": {},
   "source": [
    "성별의 유무로 투표 유무 확인"
   ]
  },
  {
   "cell_type": "code",
   "execution_count": 22,
   "metadata": {},
   "outputs": [
    {
     "data": {
      "text/plain": [
       "<AxesSubplot:xlabel='gender', ylabel='count'>"
      ]
     },
     "execution_count": 22,
     "metadata": {},
     "output_type": "execute_result"
    },
    {
     "data": {
      "image/png": "[encoded data removed]",
      "text/plain": [
       "<Figure size 576x432 with 1 Axes>"
      ]
     },
     "metadata": {
      "needs_background": "light"
     },
     "output_type": "display_data"
    }
   ],
   "source": [
    "plt.figure(figsize = (8,6))\n",
    "sns.countplot(data = eda_train, x = 'gender', hue = eda_train['voted'])"
   ]
  },
  {
   "cell_type": "markdown",
   "metadata": {},
   "source": [
    "인종별 투표 유무 확인\n",
    "\n",
    "백인 투표율 높음"
   ]
  },
  {
   "cell_type": "code",
   "execution_count": 23,
   "metadata": {},
   "outputs": [
    {
     "data": {
      "text/plain": [
       "<AxesSubplot:xlabel='race', ylabel='count'>"
      ]
     },
     "execution_count": 23,
     "metadata": {},
     "output_type": "execute_result"
    },
    {
     "data": {
      "image/png": "[encoded data removed]",
      "text/plain": [
       "<Figure size 576x432 with 1 Axes>"
      ]
     },
     "metadata": {
      "needs_background": "light"
     },
     "output_type": "display_data"
    }
   ],
   "source": [
    "plt.figure(figsize = (8,6))\n",
    "sns.countplot(data = eda_train, x = 'race', hue = eda_train['voted'])"
   ]
  },
  {
   "cell_type": "markdown",
   "metadata": {},
   "source": [
    "종교별 투표 유무 확인"
   ]
  },
  {
   "cell_type": "code",
   "execution_count": 24,
   "metadata": {},
   "outputs": [
    {
     "data": {
      "text/plain": [
       "<AxesSubplot:xlabel='religion', ylabel='count'>"
      ]
     },
     "execution_count": 24,
     "metadata": {},
     "output_type": "execute_result"
    },
    {
     "data": {
      "image/png": "[encoded data removed]",
      "text/plain": [
       "<Figure size 576x432 with 1 Axes>"
      ]
     },
     "metadata": {
      "needs_background": "light"
     },
     "output_type": "display_data"
    }
   ],
   "source": [
    "plt.figure(figsize = (8,6))\n",
    "sns.countplot(data = eda_train, x = 'religion', hue = eda_train['voted'])"
   ]
  },
  {
   "cell_type": "code",
   "execution_count": 25,
   "metadata": {},
   "outputs": [
    {
     "data": {
      "text/plain": [
       "0        White\n",
       "1        Asian\n",
       "2        White\n",
       "3        Asian\n",
       "4        White\n",
       "         ...  \n",
       "45527    White\n",
       "45528    White\n",
       "45529    White\n",
       "45530    White\n",
       "45531    White\n",
       "Name: race, Length: 45532, dtype: object"
      ]
     },
     "execution_count": 25,
     "metadata": {},
     "output_type": "execute_result"
    }
   ],
   "source": [
    "eda_train['race']"
   ]
  },
  {
   "cell_type": "markdown",
   "metadata": {},
   "source": [
    "urban 별 투표 유무\n",
    "\n",
    "1=Rural (country side), 2=Suburban, 3=Urban (town, city), 0=무응답"
   ]
  },
  {
   "cell_type": "code",
   "execution_count": 26,
   "metadata": {},
   "outputs": [
    {
     "data": {
      "text/plain": [
       "<AxesSubplot:xlabel='urban', ylabel='count'>"
      ]
     },
     "execution_count": 26,
     "metadata": {},
     "output_type": "execute_result"
    },
    {
     "data": {
      "image/png": "[encoded data removed]",
      "text/plain": [
       "<Figure size 576x432 with 1 Axes>"
      ]
     },
     "metadata": {
      "needs_background": "light"
     },
     "output_type": "display_data"
    }
   ],
   "source": [
    "plt.figure(figsize = (8,6))\n",
    "sns.countplot(data = eda_train, x = 'urban', hue = eda_train['voted'])"
   ]
  },
  {
   "cell_type": "markdown",
   "metadata": {},
   "source": [
    "모국어가 영어 (1 : yes 2: no 0: 무응답) 별 투표 유무"
   ]
  },
  {
   "cell_type": "code",
   "execution_count": 27,
   "metadata": {},
   "outputs": [
    {
     "data": {
      "text/plain": [
       "<AxesSubplot:xlabel='engnat', ylabel='count'>"
      ]
     },
     "execution_count": 27,
     "metadata": {},
     "output_type": "execute_result"
    },
    {
     "data": {
      "image/png": "[encoded data removed]",
      "text/plain": [
       "<Figure size 576x432 with 1 Axes>"
      ]
     },
     "metadata": {
      "needs_background": "light"
     },
     "output_type": "display_data"
    }
   ],
   "source": [
    "plt.figure(figsize = (8,6))\n",
    "sns.countplot(data = eda_train, x = 'engnat', hue = eda_train['voted'])"
   ]
  },
  {
   "cell_type": "markdown",
   "metadata": {},
   "source": [
    "## 4. Feature Engineering"
   ]
  },
  {
   "cell_type": "code",
   "execution_count": 29,
   "metadata": {},
   "outputs": [],
   "source": [
    "x_train = train.copy()\n",
    "x_train.drop('voted', axis=1, inplace = True)\n",
    "y_train = train['voted']"
   ]
  },
  {
   "cell_type": "code",
   "execution_count": 30,
   "metadata": {},
   "outputs": [],
   "source": [
    "dataset = [x_train, test]"
   ]
  },
  {
   "cell_type": "code",
   "execution_count": 31,
   "metadata": {},
   "outputs": [
    {
     "data": {
      "text/plain": [
       "[       index  QaA   QaE  QbA   QbE  QcA   QcE  QdA   QdE  QeA  ...  wr_04  \\\n",
       " 0          0  3.0   363  4.0  1370  5.0   997  1.0  1024  2.0  ...      0   \n",
       " 1          1  5.0   647  5.0  1313  3.0  3387  5.0  2969  1.0  ...      1   \n",
       " 2          2  4.0  1623  1.0  1480  1.0  1021  4.0  3374  5.0  ...      1   \n",
       " 3          3  3.0   504  3.0  2311  4.0   992  3.0  3245  1.0  ...      0   \n",
       " 4          4  1.0   927  1.0   707  5.0   556  2.0  1062  1.0  ...      1   \n",
       " ...      ...  ...   ...  ...   ...  ...   ...  ...   ...  ...  ...    ...   \n",
       " 45527  45527  2.0  1050  5.0   619  4.0   328  1.0   285  1.0  ...      1   \n",
       " 45528  45528  2.0   581  3.0  1353  4.0  1164  1.0   798  3.0  ...      1   \n",
       " 45529  45529  4.0   593  1.0   857  1.0  1047  4.0  1515  5.0  ...      1   \n",
       " 45530  45530  1.0   747  3.0  1331  4.0   892  2.0  1281  1.0  ...      1   \n",
       " 45531  45531  3.0   496  5.0  1827  5.0   754  3.0  1117  1.0  ...      1   \n",
       " \n",
       "        wr_05  wr_06  wr_07  wr_08  wr_09  wr_10  wr_11  wr_12  wr_13  \n",
       " 0          1      0      1      1      0      1      0      1      1  \n",
       " 1          1      0      1      1      0      1      0      1      1  \n",
       " 2          1      0      1      1      1      1      0      1      1  \n",
       " 3          0      0      0      1      0      1      0      1      1  \n",
       " 4          1      1      1      1      0      1      1      1      1  \n",
       " ...      ...    ...    ...    ...    ...    ...    ...    ...    ...  \n",
       " 45527      1      0      1      1      1      1      0      1      1  \n",
       " 45528      1      0      1      1      1      1      0      1      1  \n",
       " 45529      1      0      1      1      0      1      0      1      1  \n",
       " 45530      1      0      1      1      1      1      0      1      1  \n",
       " 45531      1      0      1      1      0      1      0      1      1  \n",
       " \n",
       " [45532 rows x 77 columns],\n",
       "        index  QaA  QaE  QbA   QbE  QcA   QcE  QdA   QdE  QeA  ...  wr_04  \\\n",
       " 0          0  3.0  736  2.0  2941  3.0  4621  1.0  4857  2.0  ...      0   \n",
       " 1          1  3.0  514  2.0  1952  3.0  1552  3.0   821  4.0  ...      0   \n",
       " 2          2  3.0  500  2.0  2507  4.0   480  2.0   614  2.0  ...      0   \n",
       " 3          3  1.0  669  1.0  1050  5.0  1435  2.0  2252  5.0  ...      1   \n",
       " 4          4  2.0  499  1.0  1243  5.0   845  2.0  1666  2.0  ...      1   \n",
       " ...      ...  ...  ...  ...   ...  ...   ...  ...   ...  ...  ...    ...   \n",
       " 11378  11378  5.0  427  5.0  1066  5.0   588  1.0   560  2.0  ...      1   \n",
       " 11379  11379  1.0  314  5.0   554  5.0   230  1.0   956  2.0  ...      1   \n",
       " 11380  11380  1.0  627  2.0   799  1.0   739  2.0  1123  1.0  ...      1   \n",
       " 11381  11381  2.0  539  1.0  2090  2.0  4642  1.0   673  2.0  ...      1   \n",
       " 11382  11382  2.0  541  4.0   900  5.0   691  2.0  1951  1.0  ...      0   \n",
       " \n",
       "        wr_05  wr_06  wr_07  wr_08  wr_09  wr_10  wr_11  wr_12  wr_13  \n",
       " 0          1      0      0      1      0      1      0      1      1  \n",
       " 1          0      0      0      0      0      0      0      0      0  \n",
       " 2          1      0      1      1      0      1      0      1      1  \n",
       " 3          1      1      1      1      1      1      1      1      1  \n",
       " 4          1      0      1      1      0      1      1      1      1  \n",
       " ...      ...    ...    ...    ...    ...    ...    ...    ...    ...  \n",
       " 11378      1      0      1      1      0      1      0      1      1  \n",
       " 11379      1      1      1      1      1      1      1      1      1  \n",
       " 11380      1      0      1      1      0      1      0      1      1  \n",
       " 11381      0      0      1      1      0      1      1      1      0  \n",
       " 11382      0      1      0      1      0      0      1      0      0  \n",
       " \n",
       " [11383 rows x 77 columns]]"
      ]
     },
     "execution_count": 31,
     "metadata": {},
     "output_type": "execute_result"
    }
   ],
   "source": [
    "dataset"
   ]
  },
  {
   "cell_type": "markdown",
   "metadata": {},
   "source": [
    "마키아밸리 테스트 FE"
   ]
  },
  {
   "cell_type": "code",
   "execution_count": 32,
   "metadata": {},
   "outputs": [],
   "source": [
    "questions = [i for i in list(ascii_lowercase)[:20]]\n",
    "\n",
    "#QaA ~QtA: answers\n",
    "answers = [('Q'+i+'A') for i in questions]"
   ]
  },
  {
   "cell_type": "markdown",
   "metadata": {},
   "source": [
    "Tactic/ Morality/ View에 따라 feature 항목을 나눈것"
   ]
  },
  {
   "cell_type": "code",
   "execution_count": 33,
   "metadata": {},
   "outputs": [],
   "source": [
    "for data in dataset:\n",
    "  data['T'] = data['QcA'] - data['QfA'] + data['QoA'] - data['QrA'] + data['QsA']\n",
    "  data['V'] = data['QbA'] - data['QeA'] + data['QhA'] + data['QjA'] + data['QmA'] - data['QqA']\n",
    "  data['M'] = - data['QkA']"
   ]
  },
  {
   "cell_type": "code",
   "execution_count": 34,
   "metadata": {},
   "outputs": [
    {
     "data": {
      "text/plain": [
       "0        2.0\n",
       "1        4.0\n",
       "2        2.0\n",
       "3        5.0\n",
       "4        2.0\n",
       "        ... \n",
       "11378    2.0\n",
       "11379    2.0\n",
       "11380    1.0\n",
       "11381    2.0\n",
       "11382    1.0\n",
       "Name: QeA, Length: 11383, dtype: float64"
      ]
     },
     "execution_count": 34,
     "metadata": {},
     "output_type": "execute_result"
    }
   ],
   "source": [
    "data['QeA']"
   ]
  },
  {
   "cell_type": "code",
   "execution_count": 35,
   "metadata": {},
   "outputs": [],
   "source": [
    "flipping_columns = [\"QeA\", \"QfA\", \"QkA\", \"QqA\", \"QrA\"]\n",
    "for data in dataset:\n",
    "  for flip in flipping_columns: \n",
    "    data[flip] = 6 - data[flip]"
   ]
  },
  {
   "cell_type": "code",
   "execution_count": 36,
   "metadata": {},
   "outputs": [
    {
     "data": {
      "text/plain": [
       "0        4.0\n",
       "1        2.0\n",
       "2        4.0\n",
       "3        1.0\n",
       "4        4.0\n",
       "        ... \n",
       "11378    4.0\n",
       "11379    4.0\n",
       "11380    5.0\n",
       "11381    4.0\n",
       "11382    5.0\n",
       "Name: QeA, Length: 11383, dtype: float64"
      ]
     },
     "execution_count": 36,
     "metadata": {},
     "output_type": "execute_result"
    }
   ],
   "source": [
    "data['QeA']"
   ]
  },
  {
   "cell_type": "code",
   "execution_count": 37,
   "metadata": {},
   "outputs": [],
   "source": [
    "#answers의 평균을 담은 column\n",
    "\n",
    "for data in dataset:\n",
    "  data['Mach_score'] = data[answers].mean(axis = 1)"
   ]
  },
  {
   "cell_type": "code",
   "execution_count": 38,
   "metadata": {},
   "outputs": [
    {
     "data": {
      "text/plain": [
       "0        2.75\n",
       "1        2.70\n",
       "2        3.05\n",
       "3        2.45\n",
       "4        2.90\n",
       "         ... \n",
       "11378    3.30\n",
       "11379    3.55\n",
       "11380    2.75\n",
       "11381    2.45\n",
       "11382    3.30\n",
       "Name: Mach_score, Length: 11383, dtype: float64"
      ]
     },
     "execution_count": 38,
     "metadata": {},
     "output_type": "execute_result"
    }
   ],
   "source": [
    "data['Mach_score']"
   ]
  },
  {
   "cell_type": "code",
   "execution_count": 39,
   "metadata": {},
   "outputs": [],
   "source": [
    "for data in dataset:\n",
    "  data['delay'] = data[[('Q'+i+'E') for i in questions]].sum(axis=1)\n",
    "  data['delay'] = data['delay'] ** (1/10)"
   ]
  },
  {
   "cell_type": "code",
   "execution_count": 40,
   "metadata": {},
   "outputs": [],
   "source": [
    "Ancoms = list(combinations(answers, 2))\n",
    "for data in dataset:\n",
    "  for a,b in Ancoms:\n",
    "    data['%s_dv_%s'%(a,b)] = data[a]/data[b]"
   ]
  },
  {
   "cell_type": "markdown",
   "metadata": {},
   "source": [
    "ex) data['QaA_dv_QaB'] = data[QaA]/data[QaB]"
   ]
  },
  {
   "cell_type": "code",
   "execution_count": 41,
   "metadata": {},
   "outputs": [],
   "source": [
    "for data in dataset:\n",
    "  data.drop([('Q'+i+'A') for i in questions], axis = 1, inplace = True)\n",
    "  data.drop([('Q'+i+'E') for i in questions], axis = 1, inplace = True)"
   ]
  },
  {
   "cell_type": "markdown",
   "metadata": {},
   "source": [
    "### 나머지 drop features"
   ]
  },
  {
   "cell_type": "code",
   "execution_count": 42,
   "metadata": {},
   "outputs": [],
   "source": [
    "for data in dataset:\n",
    "  data.drop('hand', axis=1, inplace = True)"
   ]
  },
  {
   "cell_type": "code",
   "execution_count": 43,
   "metadata": {},
   "outputs": [],
   "source": [
    "wr_list = [('wr_0'+str(i)) for i in range(1,10)]\n",
    "wr_list.extend([('wr_'+str(i)) for i in range(10,14)])\n",
    "wr_no_need = [i for i in wr_list if i not in ['wr_01', 'wr_03', 'wr_06', 'wr_09', 'wr_11']]"
   ]
  },
  {
   "cell_type": "code",
   "execution_count": 44,
   "metadata": {},
   "outputs": [],
   "source": [
    "for data in dataset:\n",
    "  data.drop(wr_no_need, axis=1, inplace = True)"
   ]
  },
  {
   "cell_type": "code",
   "execution_count": 45,
   "metadata": {},
   "outputs": [],
   "source": [
    "for data in dataset:\n",
    "  data['Ex'] = data['tp01']-data['tp06']\n",
    "  data['Ag'] = data['tp07']-data['tp02']\n",
    "  data['Con'] = data['tp03']-data['tp08']\n",
    "  data['Es'] =data['tp09']-data['tp04']\n",
    "  data['Op'] =data['tp05']-data['tp10']"
   ]
  },
  {
   "cell_type": "code",
   "execution_count": 46,
   "metadata": {},
   "outputs": [],
   "source": [
    "for data in dataset:\n",
    "  data.drop([('tp0'+str(i)) for i in range(1,10)], axis=1, inplace = True)\n",
    "  data.drop('tp10', axis = 1, inplace = True)"
   ]
  },
  {
   "cell_type": "code",
   "execution_count": 47,
   "metadata": {},
   "outputs": [],
   "source": [
    "index = test['index']\n",
    "for data in dataset:\n",
    "  data.drop('index', axis = 1, inplace = True)"
   ]
  },
  {
   "cell_type": "markdown",
   "metadata": {},
   "source": [
    "### Label Encoder"
   ]
  },
  {
   "cell_type": "code",
   "execution_count": 48,
   "metadata": {},
   "outputs": [
    {
     "name": "stdout",
     "output_type": "stream",
     "text": [
      "Index(['age_group', 'gender', 'race', 'religion'], dtype='object')\n"
     ]
    }
   ],
   "source": [
    "from sklearn.preprocessing import LabelEncoder\n",
    "encoder = LabelEncoder()\n",
    "\n",
    "features_index = train.dtypes[train.dtypes == 'object'].index\n",
    "\n",
    "print(features_index)\n",
    "\n",
    "for i in features_index:\n",
    "  x_train[i] = encoder.fit_transform(x_train[i])\n",
    "  test[i] = encoder.transform(test[i])"
   ]
  },
  {
   "cell_type": "code",
   "execution_count": 49,
   "metadata": {
    "scrolled": true
   },
   "outputs": [
    {
     "data": {
      "text/html": [
       "<div>\n",
       "<style scoped>\n",
       "    .dataframe tbody tr th:only-of-type {\n",
       "        vertical-align: middle;\n",
       "    }\n",
       "\n",
       "    .dataframe tbody tr th {\n",
       "        vertical-align: top;\n",
       "    }\n",
       "\n",
       "    .dataframe thead th {\n",
       "        text-align: right;\n",
       "    }\n",
       "</style>\n",
       "<table border=\"1\" class=\"dataframe\">\n",
       "  <thead>\n",
       "    <tr style=\"text-align: right;\">\n",
       "      <th></th>\n",
       "      <th>age_group</th>\n",
       "      <th>education</th>\n",
       "      <th>engnat</th>\n",
       "      <th>familysize</th>\n",
       "      <th>gender</th>\n",
       "      <th>married</th>\n",
       "      <th>race</th>\n",
       "      <th>religion</th>\n",
       "      <th>urban</th>\n",
       "      <th>wf_01</th>\n",
       "      <th>...</th>\n",
       "      <th>QqA_dv_QsA</th>\n",
       "      <th>QqA_dv_QtA</th>\n",
       "      <th>QrA_dv_QsA</th>\n",
       "      <th>QrA_dv_QtA</th>\n",
       "      <th>QsA_dv_QtA</th>\n",
       "      <th>Ex</th>\n",
       "      <th>Ag</th>\n",
       "      <th>Con</th>\n",
       "      <th>Es</th>\n",
       "      <th>Op</th>\n",
       "    </tr>\n",
       "  </thead>\n",
       "  <tbody>\n",
       "    <tr>\n",
       "      <th>0</th>\n",
       "      <td>3</td>\n",
       "      <td>2</td>\n",
       "      <td>1</td>\n",
       "      <td>4</td>\n",
       "      <td>0</td>\n",
       "      <td>3</td>\n",
       "      <td>6</td>\n",
       "      <td>10</td>\n",
       "      <td>1</td>\n",
       "      <td>0</td>\n",
       "      <td>...</td>\n",
       "      <td>2.00</td>\n",
       "      <td>4.0</td>\n",
       "      <td>2.00</td>\n",
       "      <td>4.0</td>\n",
       "      <td>2.0</td>\n",
       "      <td>1</td>\n",
       "      <td>5</td>\n",
       "      <td>-2</td>\n",
       "      <td>3</td>\n",
       "      <td>-1</td>\n",
       "    </tr>\n",
       "    <tr>\n",
       "      <th>1</th>\n",
       "      <td>2</td>\n",
       "      <td>4</td>\n",
       "      <td>2</td>\n",
       "      <td>3</td>\n",
       "      <td>0</td>\n",
       "      <td>1</td>\n",
       "      <td>1</td>\n",
       "      <td>7</td>\n",
       "      <td>3</td>\n",
       "      <td>0</td>\n",
       "      <td>...</td>\n",
       "      <td>0.25</td>\n",
       "      <td>1.0</td>\n",
       "      <td>1.25</td>\n",
       "      <td>5.0</td>\n",
       "      <td>4.0</td>\n",
       "      <td>-1</td>\n",
       "      <td>2</td>\n",
       "      <td>-4</td>\n",
       "      <td>0</td>\n",
       "      <td>-3</td>\n",
       "    </tr>\n",
       "    <tr>\n",
       "      <th>2</th>\n",
       "      <td>3</td>\n",
       "      <td>3</td>\n",
       "      <td>1</td>\n",
       "      <td>3</td>\n",
       "      <td>1</td>\n",
       "      <td>2</td>\n",
       "      <td>6</td>\n",
       "      <td>10</td>\n",
       "      <td>2</td>\n",
       "      <td>0</td>\n",
       "      <td>...</td>\n",
       "      <td>1.00</td>\n",
       "      <td>1.0</td>\n",
       "      <td>2.00</td>\n",
       "      <td>2.0</td>\n",
       "      <td>1.0</td>\n",
       "      <td>-2</td>\n",
       "      <td>-1</td>\n",
       "      <td>-5</td>\n",
       "      <td>-4</td>\n",
       "      <td>0</td>\n",
       "    </tr>\n",
       "    <tr>\n",
       "      <th>3</th>\n",
       "      <td>2</td>\n",
       "      <td>4</td>\n",
       "      <td>2</td>\n",
       "      <td>0</td>\n",
       "      <td>0</td>\n",
       "      <td>1</td>\n",
       "      <td>1</td>\n",
       "      <td>7</td>\n",
       "      <td>3</td>\n",
       "      <td>0</td>\n",
       "      <td>...</td>\n",
       "      <td>0.75</td>\n",
       "      <td>0.6</td>\n",
       "      <td>0.50</td>\n",
       "      <td>0.4</td>\n",
       "      <td>0.8</td>\n",
       "      <td>-1</td>\n",
       "      <td>-3</td>\n",
       "      <td>-2</td>\n",
       "      <td>0</td>\n",
       "      <td>-2</td>\n",
       "    </tr>\n",
       "    <tr>\n",
       "      <th>4</th>\n",
       "      <td>2</td>\n",
       "      <td>3</td>\n",
       "      <td>1</td>\n",
       "      <td>2</td>\n",
       "      <td>1</td>\n",
       "      <td>2</td>\n",
       "      <td>6</td>\n",
       "      <td>0</td>\n",
       "      <td>1</td>\n",
       "      <td>0</td>\n",
       "      <td>...</td>\n",
       "      <td>1.00</td>\n",
       "      <td>0.5</td>\n",
       "      <td>1.00</td>\n",
       "      <td>0.5</td>\n",
       "      <td>0.5</td>\n",
       "      <td>-1</td>\n",
       "      <td>-1</td>\n",
       "      <td>-5</td>\n",
       "      <td>-4</td>\n",
       "      <td>-6</td>\n",
       "    </tr>\n",
       "  </tbody>\n",
       "</table>\n",
       "<p>5 rows × 217 columns</p>\n",
       "</div>"
      ],
      "text/plain": [
       "   age_group  education  engnat  familysize  gender  married  race  religion  \\\n",
       "0          3          2       1           4       0        3     6        10   \n",
       "1          2          4       2           3       0        1     1         7   \n",
       "2          3          3       1           3       1        2     6        10   \n",
       "3          2          4       2           0       0        1     1         7   \n",
       "4          2          3       1           2       1        2     6         0   \n",
       "\n",
       "   urban  wf_01  ...  QqA_dv_QsA  QqA_dv_QtA  QrA_dv_QsA  QrA_dv_QtA  \\\n",
       "0      1      0  ...        2.00         4.0        2.00         4.0   \n",
       "1      3      0  ...        0.25         1.0        1.25         5.0   \n",
       "2      2      0  ...        1.00         1.0        2.00         2.0   \n",
       "3      3      0  ...        0.75         0.6        0.50         0.4   \n",
       "4      1      0  ...        1.00         0.5        1.00         0.5   \n",
       "\n",
       "   QsA_dv_QtA  Ex  Ag  Con  Es  Op  \n",
       "0         2.0   1   5   -2   3  -1  \n",
       "1         4.0  -1   2   -4   0  -3  \n",
       "2         1.0  -2  -1   -5  -4   0  \n",
       "3         0.8  -1  -3   -2   0  -2  \n",
       "4         0.5  -1  -1   -5  -4  -6  \n",
       "\n",
       "[5 rows x 217 columns]"
      ]
     },
     "execution_count": 49,
     "metadata": {},
     "output_type": "execute_result"
    }
   ],
   "source": [
    "x_train.head()"
   ]
  },
  {
   "cell_type": "code",
   "execution_count": 50,
   "metadata": {},
   "outputs": [
    {
     "data": {
      "text/html": [
       "<div>\n",
       "<style scoped>\n",
       "    .dataframe tbody tr th:only-of-type {\n",
       "        vertical-align: middle;\n",
       "    }\n",
       "\n",
       "    .dataframe tbody tr th {\n",
       "        vertical-align: top;\n",
       "    }\n",
       "\n",
       "    .dataframe thead th {\n",
       "        text-align: right;\n",
       "    }\n",
       "</style>\n",
       "<table border=\"1\" class=\"dataframe\">\n",
       "  <thead>\n",
       "    <tr style=\"text-align: right;\">\n",
       "      <th></th>\n",
       "      <th>age_group</th>\n",
       "      <th>education</th>\n",
       "      <th>engnat</th>\n",
       "      <th>familysize</th>\n",
       "      <th>gender</th>\n",
       "      <th>married</th>\n",
       "      <th>race</th>\n",
       "      <th>religion</th>\n",
       "      <th>urban</th>\n",
       "      <th>wf_01</th>\n",
       "      <th>...</th>\n",
       "      <th>QqA_dv_QsA</th>\n",
       "      <th>QqA_dv_QtA</th>\n",
       "      <th>QrA_dv_QsA</th>\n",
       "      <th>QrA_dv_QtA</th>\n",
       "      <th>QsA_dv_QtA</th>\n",
       "      <th>Ex</th>\n",
       "      <th>Ag</th>\n",
       "      <th>Con</th>\n",
       "      <th>Es</th>\n",
       "      <th>Op</th>\n",
       "    </tr>\n",
       "  </thead>\n",
       "  <tbody>\n",
       "    <tr>\n",
       "      <th>0</th>\n",
       "      <td>1</td>\n",
       "      <td>2</td>\n",
       "      <td>2</td>\n",
       "      <td>3</td>\n",
       "      <td>1</td>\n",
       "      <td>1</td>\n",
       "      <td>6</td>\n",
       "      <td>6</td>\n",
       "      <td>2</td>\n",
       "      <td>0</td>\n",
       "      <td>...</td>\n",
       "      <td>3.000000</td>\n",
       "      <td>1.5</td>\n",
       "      <td>2.000000</td>\n",
       "      <td>1.000000</td>\n",
       "      <td>0.500000</td>\n",
       "      <td>0</td>\n",
       "      <td>1</td>\n",
       "      <td>-2</td>\n",
       "      <td>0</td>\n",
       "      <td>-3</td>\n",
       "    </tr>\n",
       "    <tr>\n",
       "      <th>1</th>\n",
       "      <td>1</td>\n",
       "      <td>2</td>\n",
       "      <td>2</td>\n",
       "      <td>2</td>\n",
       "      <td>1</td>\n",
       "      <td>1</td>\n",
       "      <td>5</td>\n",
       "      <td>3</td>\n",
       "      <td>3</td>\n",
       "      <td>0</td>\n",
       "      <td>...</td>\n",
       "      <td>0.666667</td>\n",
       "      <td>0.5</td>\n",
       "      <td>0.333333</td>\n",
       "      <td>0.250000</td>\n",
       "      <td>0.750000</td>\n",
       "      <td>0</td>\n",
       "      <td>0</td>\n",
       "      <td>0</td>\n",
       "      <td>0</td>\n",
       "      <td>0</td>\n",
       "    </tr>\n",
       "    <tr>\n",
       "      <th>2</th>\n",
       "      <td>3</td>\n",
       "      <td>3</td>\n",
       "      <td>2</td>\n",
       "      <td>7</td>\n",
       "      <td>1</td>\n",
       "      <td>2</td>\n",
       "      <td>5</td>\n",
       "      <td>5</td>\n",
       "      <td>1</td>\n",
       "      <td>0</td>\n",
       "      <td>...</td>\n",
       "      <td>1.000000</td>\n",
       "      <td>0.6</td>\n",
       "      <td>0.666667</td>\n",
       "      <td>0.400000</td>\n",
       "      <td>0.600000</td>\n",
       "      <td>5</td>\n",
       "      <td>0</td>\n",
       "      <td>1</td>\n",
       "      <td>4</td>\n",
       "      <td>5</td>\n",
       "    </tr>\n",
       "    <tr>\n",
       "      <th>3</th>\n",
       "      <td>6</td>\n",
       "      <td>4</td>\n",
       "      <td>1</td>\n",
       "      <td>4</td>\n",
       "      <td>1</td>\n",
       "      <td>2</td>\n",
       "      <td>6</td>\n",
       "      <td>3</td>\n",
       "      <td>2</td>\n",
       "      <td>0</td>\n",
       "      <td>...</td>\n",
       "      <td>0.250000</td>\n",
       "      <td>1.0</td>\n",
       "      <td>1.250000</td>\n",
       "      <td>5.000000</td>\n",
       "      <td>4.000000</td>\n",
       "      <td>-6</td>\n",
       "      <td>-5</td>\n",
       "      <td>-4</td>\n",
       "      <td>-5</td>\n",
       "      <td>-6</td>\n",
       "    </tr>\n",
       "    <tr>\n",
       "      <th>4</th>\n",
       "      <td>1</td>\n",
       "      <td>2</td>\n",
       "      <td>1</td>\n",
       "      <td>3</td>\n",
       "      <td>1</td>\n",
       "      <td>1</td>\n",
       "      <td>6</td>\n",
       "      <td>0</td>\n",
       "      <td>2</td>\n",
       "      <td>0</td>\n",
       "      <td>...</td>\n",
       "      <td>0.750000</td>\n",
       "      <td>1.0</td>\n",
       "      <td>0.500000</td>\n",
       "      <td>0.666667</td>\n",
       "      <td>1.333333</td>\n",
       "      <td>6</td>\n",
       "      <td>4</td>\n",
       "      <td>0</td>\n",
       "      <td>2</td>\n",
       "      <td>0</td>\n",
       "    </tr>\n",
       "  </tbody>\n",
       "</table>\n",
       "<p>5 rows × 217 columns</p>\n",
       "</div>"
      ],
      "text/plain": [
       "   age_group  education  engnat  familysize  gender  married  race  religion  \\\n",
       "0          1          2       2           3       1        1     6         6   \n",
       "1          1          2       2           2       1        1     5         3   \n",
       "2          3          3       2           7       1        2     5         5   \n",
       "3          6          4       1           4       1        2     6         3   \n",
       "4          1          2       1           3       1        1     6         0   \n",
       "\n",
       "   urban  wf_01  ...  QqA_dv_QsA  QqA_dv_QtA  QrA_dv_QsA  QrA_dv_QtA  \\\n",
       "0      2      0  ...    3.000000         1.5    2.000000    1.000000   \n",
       "1      3      0  ...    0.666667         0.5    0.333333    0.250000   \n",
       "2      1      0  ...    1.000000         0.6    0.666667    0.400000   \n",
       "3      2      0  ...    0.250000         1.0    1.250000    5.000000   \n",
       "4      2      0  ...    0.750000         1.0    0.500000    0.666667   \n",
       "\n",
       "   QsA_dv_QtA  Ex  Ag  Con  Es  Op  \n",
       "0    0.500000   0   1   -2   0  -3  \n",
       "1    0.750000   0   0    0   0   0  \n",
       "2    0.600000   5   0    1   4   5  \n",
       "3    4.000000  -6  -5   -4  -5  -6  \n",
       "4    1.333333   6   4    0   2   0  \n",
       "\n",
       "[5 rows x 217 columns]"
      ]
     },
     "execution_count": 50,
     "metadata": {},
     "output_type": "execute_result"
    }
   ],
   "source": [
    "test.head()"
   ]
  },
  {
   "cell_type": "markdown",
   "metadata": {},
   "source": [
    "## 5. Modeling"
   ]
  },
  {
   "cell_type": "code",
   "execution_count": 51,
   "metadata": {},
   "outputs": [],
   "source": [
    "k_fold = KFold(n_splits = 3, shuffle = True, random_state = 0)"
   ]
  },
  {
   "cell_type": "code",
   "execution_count": 52,
   "metadata": {},
   "outputs": [
    {
     "data": {
      "text/plain": [
       "VotingClassifier(estimators=[('r1', RandomForestClassifier(n_estimators=500)),\n",
       "                             ('r2', GradientBoostingClassifier())],\n",
       "                 voting='soft')"
      ]
     },
     "execution_count": 52,
     "metadata": {},
     "output_type": "execute_result"
    }
   ],
   "source": [
    "clf1 = RandomForestClassifier(n_estimators=500)\n",
    "clf2 = GradientBoostingClassifier()\n",
    "soft_vote  = VotingClassifier([('r1',clf1), ('r2', clf2)], voting='soft')\n",
    "soft_vote.fit(x_train, y_train)"
   ]
  },
  {
   "cell_type": "code",
   "execution_count": 54,
   "metadata": {},
   "outputs": [
    {
     "data": {
      "image/jpeg": "[encoded data removed]",
      "text/plain": [
       "<IPython.core.display.Image object>"
      ]
     },
     "execution_count": 54,
     "metadata": {},
     "output_type": "execute_result"
    }
   ],
   "source": [
    "Image('C:/Users\\queenSSH/Desktop/학교/CUAI/235647_심리 성향 예측 AI 경진대회_data/open data/softvoting.jpg')"
   ]
  },
  {
   "cell_type": "code",
   "execution_count": 55,
   "metadata": {},
   "outputs": [],
   "source": [
    "model = soft_vote\n",
    "pred_y = model.predict_proba(test)\n",
    "pred_y = pred_y[:,1]\n",
    "\n",
    "submission = pd.DataFrame({\n",
    "    \"index\" : index,\n",
    "    \"voted\" : pred_y\n",
    "})\n",
    "submission.to_csv('C:/Users\\queenSSH/Desktop/학교/CUAI/235647_심리 성향 예측 AI 경진대회_data/open data/model1.csv', index=False)"
   ]
  }
 ],
 "metadata": {
  "kernelspec": {
   "display_name": "Python 3",
   "language": "python",
   "name": "python3"
  },
  "language_info": {
   "codemirror_mode": {
    "name": "ipython",
    "version": 3
   },
   "file_extension": ".py",
   "mimetype": "text/x-python",
   "name": "python",
   "nbconvert_exporter": "python",
   "pygments_lexer": "ipython3",
   "version": "3.8.5"
  }
 },
 "nbformat": 4,
 "nbformat_minor": 4
}
