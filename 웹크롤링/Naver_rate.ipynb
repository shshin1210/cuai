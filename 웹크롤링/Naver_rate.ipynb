{
 "cells": [
  {
   "cell_type": "code",
   "execution_count": 28,
   "metadata": {},
   "outputs": [],
   "source": [
    "import requests\n",
    "from bs4 import BeautifulSoup\n",
    "from selenium import webdriver\n",
    "from time import sleep\n",
    "import pandas as pd\n",
    "from webdriver_manager.chrome import ChromeDriverManager"
   ]
  },
  {
   "cell_type": "code",
   "execution_count": 29,
   "metadata": {},
   "outputs": [],
   "source": [
    "day_list = ['mon','tue']\n",
    "\n",
    "for day in day_list:\n",
    "    URL=f'https://comic.naver.com/webtoon/weekdayList?week={day}'\n",
    "    html = requests.get(URL).text # html 문서 전체를 긁어서 출력해줌, .text는 태그 제외하고 text만 출력되게 함\n",
    "\n",
    "    soup = BeautifulSoup(html, 'html.parser')\n",
    "    \n",
    "    for href in soup.find(\"div\", class_=\"thumb\").find_all(\"dt\"):\n",
    "        print(href.find(\"a\")[\"title\"])\n",
    "\n",
    "    \n",
    "    \n"
   ]
  },
  {
   "cell_type": "code",
   "execution_count": null,
   "metadata": {},
   "outputs": [],
   "source": [
    "    driver=webdriver.Chrome(ChromeDriverManager().install())\n",
    "    URL=f'https://comic.naver.com/webtoon/weekdayList?week={day}'\n",
    "\n",
    "    driver.implicitly_wait(10)\n",
    "    driver.get(URL)\n",
    "\n",
    "    sleep(0.5)\n",
    "\n",
    "    html = driver.page_source\n",
    "    soup = BeautifulSoup(html, 'html.parser') # 이동한 페이지 주소 읽고 파싱\n",
    "\n",
    "    \n",
    "    \n",
    "    \n",
    "    for x in range(len(title)):\n",
    "        t=title[x].text\n",
    "        if(t in title_list): #title_list에 있으면 그냥 continue\n",
    "            continue\n",
    "            \n",
    "        else:\n",
    "            for i in range(len(title_num)):\n",
    "                score = soup.find_all('strong')\n",
    "                scorelist=[] ; ii=15\n",
    "                print('hi')\n",
    "\n",
    "                while score[ii].text[0].isnumeric()==True:\n",
    "                    scorelist.append(float(score[ii].text))\n",
    "                    ii +=1      \n",
    "\n",
    "                    df = pd.DataFrame(scorelist)\n",
    "\n",
    "                    df.to_csv(f'score_{day}.csv')"
   ]
  },
  {
   "cell_type": "code",
   "execution_count": null,
   "metadata": {},
   "outputs": [],
   "source": []
  }
 ],
 "metadata": {
  "kernelspec": {
   "display_name": "Python 3",
   "language": "python",
   "name": "python3"
  },
  "language_info": {
   "codemirror_mode": {
    "name": "ipython",
    "version": 3
   },
   "file_extension": ".py",
   "mimetype": "text/x-python",
   "name": "python",
   "nbconvert_exporter": "python",
   "pygments_lexer": "ipython3",
   "version": "3.8.5"
  }
 },
 "nbformat": 4,
 "nbformat_minor": 4
}
