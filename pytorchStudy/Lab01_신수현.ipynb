{
  "nbformat": 4,
  "nbformat_minor": 0,
  "metadata": {
    "colab": {
      "name": "pytorchLab01.ipynb",
      "provenance": [],
      "collapsed_sections": []
    },
    "kernelspec": {
      "name": "python3",
      "display_name": "Python 3"
    },
    "language_info": {
      "name": "python"
    }
  },
  "cells": [
    {
      "cell_type": "markdown",
      "metadata": {
        "id": "4TfqO89YnR42"
      },
      "source": [
        "## Pytorch Lab 01-1"
      ]
    },
    {
      "cell_type": "markdown",
      "metadata": {
        "id": "M_RhTbjLm8ZN"
      },
      "source": [
        "PyTorch Tensor Shape Convention\n",
        "\n",
        "- 3D Tensor (Typical Computer Vision)\n",
        "\n",
        "  ltl= (batch size, width, height)\n",
        "\n",
        "- 3D Tensor (Typical Natural Language Processing)\n",
        "\n",
        "  ltl = (batch size, length, dim)"
      ]
    },
    {
      "cell_type": "code",
      "metadata": {
        "id": "Y3GEyuD4nRES"
      },
      "source": [
        "import numpy as np\n",
        "import torch"
      ],
      "execution_count": null,
      "outputs": []
    },
    {
      "cell_type": "markdown",
      "metadata": {
        "id": "od8nnWiDngct"
      },
      "source": [
        "### Numpy Review"
      ]
    },
    {
      "cell_type": "markdown",
      "metadata": {
        "id": "X0pI0acenkCm"
      },
      "source": [
        "#### 1D Array with NumPy"
      ]
    },
    {
      "cell_type": "code",
      "metadata": {
        "colab": {
          "base_uri": "https://localhost:8080/"
        },
        "id": "OYZp_d3snGon",
        "outputId": "b5f40721-cd1b-4cbe-e5d5-1328ade8f834"
      },
      "source": [
        "t = np. array([0.,1.,2.,3.,4.,5.,6.])\n",
        "print(t)"
      ],
      "execution_count": null,
      "outputs": [
        {
          "output_type": "stream",
          "name": "stdout",
          "text": [
            "[0. 1. 2. 3. 4. 5. 6.]\n"
          ]
        }
      ]
    },
    {
      "cell_type": "code",
      "metadata": {
        "colab": {
          "base_uri": "https://localhost:8080/"
        },
        "id": "INwG_ghInraR",
        "outputId": "71e0fb14-869c-4645-8826-2d2486e5ea5a"
      },
      "source": [
        "print('Rank of t:', t.ndim)\n",
        "print('Shape of t:', t.shape)"
      ],
      "execution_count": null,
      "outputs": [
        {
          "output_type": "stream",
          "name": "stdout",
          "text": [
            "Rank of t: 1\n",
            "Shape of t: (7,)\n"
          ]
        }
      ]
    },
    {
      "cell_type": "code",
      "metadata": {
        "colab": {
          "base_uri": "https://localhost:8080/"
        },
        "id": "nSqXk4MDnvjG",
        "outputId": "bc6f0830-dfee-4581-ac07-b5111ba2fb1b"
      },
      "source": [
        "print('t[0] t[1] t[-1] = ', t[0], t[1], t[-1]) # Element\n",
        "print('t[2:5], t[4:-1]  = ', t[2:5], t[4:-1])   # Slicing\n",
        "print('t[:2], t[3:]     = ', t[:2], t[3:])      # Slicing"
      ],
      "execution_count": null,
      "outputs": [
        {
          "output_type": "stream",
          "name": "stdout",
          "text": [
            "t[0] t[1] t[-1] =  0.0 1.0 6.0\n",
            "t[2:5], t[4:-1]  =  [2. 3. 4.] [4. 5.]\n",
            "t[:2], t[3:]     =  [0. 1.] [3. 4. 5. 6.]\n"
          ]
        }
      ]
    },
    {
      "cell_type": "markdown",
      "metadata": {
        "id": "JA7SU6L6n-L7"
      },
      "source": [
        "#### 2D Array with NumPy¶\n"
      ]
    },
    {
      "cell_type": "code",
      "metadata": {
        "colab": {
          "base_uri": "https://localhost:8080/"
        },
        "id": "LYp5v6Len24q",
        "outputId": "197ee090-5dd2-4133-a7eb-060315abe123"
      },
      "source": [
        "t = np.array([[1., 2., 3.], [4., 5., 6.], [7., 8., 9.], [10., 11., 12.]])\n",
        "print(t)\n"
      ],
      "execution_count": null,
      "outputs": [
        {
          "output_type": "stream",
          "name": "stdout",
          "text": [
            "[[ 1.  2.  3.]\n",
            " [ 4.  5.  6.]\n",
            " [ 7.  8.  9.]\n",
            " [10. 11. 12.]]\n"
          ]
        }
      ]
    },
    {
      "cell_type": "code",
      "metadata": {
        "colab": {
          "base_uri": "https://localhost:8080/"
        },
        "id": "97sHV-8toAI-",
        "outputId": "9c6b46e2-9895-480e-b2f1-2a1d89461b9f"
      },
      "source": [
        "print('Rank  of t: ', t.ndim)\n",
        "print('Shape of t: ', t.shape)"
      ],
      "execution_count": null,
      "outputs": [
        {
          "output_type": "stream",
          "name": "stdout",
          "text": [
            "Rank  of t:  2\n",
            "Shape of t:  (4, 3)\n"
          ]
        }
      ]
    },
    {
      "cell_type": "markdown",
      "metadata": {
        "id": "AStGZyivoD_T"
      },
      "source": [
        "### PyTorch is like NumPy (but better)\n"
      ]
    },
    {
      "cell_type": "markdown",
      "metadata": {
        "id": "rAXRW31foJHZ"
      },
      "source": [
        "#### 1D Array with PyTorch\n"
      ]
    },
    {
      "cell_type": "code",
      "metadata": {
        "colab": {
          "base_uri": "https://localhost:8080/"
        },
        "id": "5TLLTGzNoDmo",
        "outputId": "48cad6db-09ac-42f3-f89f-4c3a7853f1e7"
      },
      "source": [
        "t = torch.FloatTensor([0.,1.,2.,3.,4.,5.,6.])\n",
        "print(t)"
      ],
      "execution_count": null,
      "outputs": [
        {
          "output_type": "stream",
          "name": "stdout",
          "text": [
            "tensor([0., 1., 2., 3., 4., 5., 6.])\n"
          ]
        }
      ]
    },
    {
      "cell_type": "code",
      "metadata": {
        "colab": {
          "base_uri": "https://localhost:8080/"
        },
        "id": "vGE6UqkFoOw1",
        "outputId": "6f00e765-0b9a-48a3-dd34-e3e324ca98a5"
      },
      "source": [
        "print(t.dim()) #rank\n",
        "print(t.shape) #shape\n",
        "print(t.size()) #shape\n",
        "print(t[0],t[-1])\n",
        "print(t[2:5],t[4:-1])\n",
        "print(t[:2])"
      ],
      "execution_count": null,
      "outputs": [
        {
          "output_type": "stream",
          "name": "stdout",
          "text": [
            "1\n",
            "torch.Size([7])\n",
            "torch.Size([7])\n",
            "tensor(0.) tensor(6.)\n",
            "tensor([2., 3., 4.]) tensor([4., 5.])\n",
            "tensor([0., 1.])\n"
          ]
        }
      ]
    },
    {
      "cell_type": "markdown",
      "metadata": {
        "id": "xy7CWUdpofcm"
      },
      "source": [
        "#### 2D Array with PyTorch\n"
      ]
    },
    {
      "cell_type": "code",
      "metadata": {
        "colab": {
          "base_uri": "https://localhost:8080/"
        },
        "id": "2BuJxGi6ob9a",
        "outputId": "2d089d44-f5c3-4bca-d5ee-04246464480c"
      },
      "source": [
        "t = torch.FloatTensor([[1., 2., 3.],\n",
        "                       [4., 5., 6.],\n",
        "                       [7., 8., 9.],\n",
        "                       [10., 11., 12.]\n",
        "                      ])\n",
        "print(t)"
      ],
      "execution_count": null,
      "outputs": [
        {
          "output_type": "stream",
          "name": "stdout",
          "text": [
            "tensor([[ 1.,  2.,  3.],\n",
            "        [ 4.,  5.,  6.],\n",
            "        [ 7.,  8.,  9.],\n",
            "        [10., 11., 12.]])\n"
          ]
        }
      ]
    },
    {
      "cell_type": "code",
      "metadata": {
        "colab": {
          "base_uri": "https://localhost:8080/"
        },
        "id": "BQ_jYAp7oN6M",
        "outputId": "69c05518-62ea-48b5-c60f-790328b4415a"
      },
      "source": [
        "print(t.dim())  # rank\n",
        "print(t.size()) # shape\n",
        "print(t[:, 1])\n",
        "print(t[:, 1].size())\n",
        "print(t[:, :-1])"
      ],
      "execution_count": null,
      "outputs": [
        {
          "output_type": "stream",
          "name": "stdout",
          "text": [
            "2\n",
            "torch.Size([4, 3])\n",
            "tensor([ 2.,  5.,  8., 11.])\n",
            "torch.Size([4])\n",
            "tensor([[ 1.,  2.],\n",
            "        [ 4.,  5.],\n",
            "        [ 7.,  8.],\n",
            "        [10., 11.]])\n"
          ]
        }
      ]
    },
    {
      "cell_type": "markdown",
      "metadata": {
        "id": "bhRJ4u7Doyqt"
      },
      "source": [
        "#### Broadcasting\n"
      ]
    },
    {
      "cell_type": "code",
      "metadata": {
        "colab": {
          "base_uri": "https://localhost:8080/"
        },
        "id": "IA88J5Rpo1UA",
        "outputId": "3449e555-c519-46ca-9431-336c3ffe2c25"
      },
      "source": [
        "# Same shape\n",
        "m1 = torch.FloatTensor([[3, 3]])\n",
        "m2 = torch.FloatTensor([[2, 2]])\n",
        "print(m1 + m2)"
      ],
      "execution_count": null,
      "outputs": [
        {
          "output_type": "stream",
          "name": "stdout",
          "text": [
            "tensor([[5., 5.]])\n"
          ]
        }
      ]
    },
    {
      "cell_type": "code",
      "metadata": {
        "colab": {
          "base_uri": "https://localhost:8080/"
        },
        "id": "t0Tblgvgo1YR",
        "outputId": "d77ebd4a-0bae-43a3-eb9c-6ef7de6874e6"
      },
      "source": [
        "# Vector + scalar\n",
        "m1 = torch.FloatTensor([[1, 2]])\n",
        "m2 = torch.FloatTensor([3]) # 3 -> [[3, 3]]\n",
        "print(m1 + m2)"
      ],
      "execution_count": null,
      "outputs": [
        {
          "output_type": "stream",
          "name": "stdout",
          "text": [
            "tensor([[4., 5.]])\n"
          ]
        }
      ]
    },
    {
      "cell_type": "code",
      "metadata": {
        "colab": {
          "base_uri": "https://localhost:8080/"
        },
        "id": "nJrRCf5xo-fR",
        "outputId": "65500ae6-924b-4d54-9c83-d68279862fb8"
      },
      "source": [
        "# 2 x 1 Vector + 1 x 2 Vector\n",
        "m1 = torch.FloatTensor([[1, 2]]) # lm1l = (1,2)\n",
        "m2 = torch.FloatTensor([[3], [4]]) # lm2l = (2,1)\n",
        "print(m1 + m2)"
      ],
      "execution_count": null,
      "outputs": [
        {
          "output_type": "stream",
          "name": "stdout",
          "text": [
            "tensor([[4., 5.],\n",
            "        [5., 6.]])\n"
          ]
        }
      ]
    },
    {
      "cell_type": "markdown",
      "metadata": {
        "id": "1JIIaWfVo-DE"
      },
      "source": [
        "#### Multiplication vs. Matrix Multiplication\n",
        "\n",
        "\n"
      ]
    },
    {
      "cell_type": "code",
      "metadata": {
        "colab": {
          "base_uri": "https://localhost:8080/"
        },
        "id": "ccd9TID3pd6Q",
        "outputId": "a16a0ded-4fa0-4976-b0dc-b6970a5bdfff"
      },
      "source": [
        "print('-------------')\n",
        "print('Mul vs Matmul')\n",
        "print('-------------')\n",
        "\n",
        "m1 = torch.FloatTensor([[1, 2], [3, 4]])\n",
        "m2 = torch.FloatTensor([[1], [2]])\n",
        "print('Shape of Matrix 1: ', m1.shape) # 2 x 2\n",
        "print('Shape of Matrix 2: ', m2.shape) # 2 x 1\n",
        "print(m1.matmul(m2)) # 2 x 1\n",
        "\n",
        "m1 = torch.FloatTensor([[1, 2], [3, 4]])\n",
        "m2 = torch.FloatTensor([[1], [2]])\n",
        "print('Shape of Matrix 1: ', m1.shape) # 2 x 2\n",
        "print('Shape of Matrix 2: ', m2.shape) # 2 x 1\n",
        "print()\n",
        "print('tensor multiplication :\\n', m1 * m2) # 2 x 2\n",
        "print('행렬의 곱: \\n' , m1.mul(m2))"
      ],
      "execution_count": null,
      "outputs": [
        {
          "output_type": "stream",
          "name": "stdout",
          "text": [
            "-------------\n",
            "Mul vs Matmul\n",
            "-------------\n",
            "Shape of Matrix 1:  torch.Size([2, 2])\n",
            "Shape of Matrix 2:  torch.Size([2, 1])\n",
            "tensor([[ 5.],\n",
            "        [11.]])\n",
            "Shape of Matrix 1:  torch.Size([2, 2])\n",
            "Shape of Matrix 2:  torch.Size([2, 1])\n",
            "\n",
            "tensor multiplication :\n",
            " tensor([[1., 2.],\n",
            "        [6., 8.]])\n",
            "행렬의 곱: \n",
            " tensor([[1., 2.],\n",
            "        [6., 8.]])\n"
          ]
        }
      ]
    },
    {
      "cell_type": "markdown",
      "metadata": {
        "id": "Ofr2Ks-oqEpn"
      },
      "source": [
        "#### Mean"
      ]
    },
    {
      "cell_type": "code",
      "metadata": {
        "colab": {
          "base_uri": "https://localhost:8080/"
        },
        "id": "GzxGy6rapd8p",
        "outputId": "137370e4-247c-487e-9c00-8a79c8693abb"
      },
      "source": [
        "t = torch.FloatTensor([1, 2])\n",
        "print(t.mean())"
      ],
      "execution_count": null,
      "outputs": [
        {
          "output_type": "stream",
          "name": "stdout",
          "text": [
            "tensor(1.5000)\n"
          ]
        }
      ]
    },
    {
      "cell_type": "code",
      "metadata": {
        "colab": {
          "base_uri": "https://localhost:8080/"
        },
        "id": "F7WQ1J92qH-G",
        "outputId": "caaa4673-5a60-4d66-9b3b-499b6c802d81"
      },
      "source": [
        "# Can't use mean() on integers\n",
        "t = torch.LongTensor([1, 2])\n",
        "try:\n",
        "    print(t.mean())\n",
        "except Exception as exc:\n",
        "    print(exc)"
      ],
      "execution_count": null,
      "outputs": [
        {
          "output_type": "stream",
          "name": "stdout",
          "text": [
            "Can only calculate the mean of floating types. Got Long instead.\n"
          ]
        }
      ]
    },
    {
      "cell_type": "code",
      "metadata": {
        "colab": {
          "base_uri": "https://localhost:8080/"
        },
        "id": "YXt13DFHqIAx",
        "outputId": "b9ae82c1-6b9a-4a2c-8e23-9fc12fcf1b10"
      },
      "source": [
        "t = torch.FloatTensor([[1, 2], [3, 4]])\n",
        "print(t)"
      ],
      "execution_count": null,
      "outputs": [
        {
          "output_type": "stream",
          "name": "stdout",
          "text": [
            "tensor([[1., 2.],\n",
            "        [3., 4.]])\n"
          ]
        }
      ]
    },
    {
      "cell_type": "code",
      "metadata": {
        "colab": {
          "base_uri": "https://localhost:8080/"
        },
        "id": "sr-fZ_n4qS-k",
        "outputId": "3d71c425-a626-49ef-983f-88814ea1beb2"
      },
      "source": [
        "print(t.mean())\n",
        "print(t.mean(dim=0)) #열끼리의 mean\n",
        "print(t.mean(dim=1)) #행끼리의 mean\n",
        "print(t.mean(dim=-1))"
      ],
      "execution_count": null,
      "outputs": [
        {
          "output_type": "stream",
          "name": "stdout",
          "text": [
            "tensor(2.5000)\n",
            "tensor([2., 3.])\n",
            "tensor([1.5000, 3.5000])\n",
            "tensor([1.5000, 3.5000])\n"
          ]
        }
      ]
    },
    {
      "cell_type": "markdown",
      "metadata": {
        "id": "8IgTaQShqwzD"
      },
      "source": [
        "#### Sum"
      ]
    },
    {
      "cell_type": "code",
      "metadata": {
        "colab": {
          "base_uri": "https://localhost:8080/"
        },
        "id": "4-s0C7ynqTBO",
        "outputId": "07039b32-f95d-463a-c8f6-ae96c1603337"
      },
      "source": [
        "t = torch.FloatTensor([[1, 2], [3, 4]])\n",
        "print(t)"
      ],
      "execution_count": null,
      "outputs": [
        {
          "output_type": "stream",
          "name": "stdout",
          "text": [
            "tensor([[1., 2.],\n",
            "        [3., 4.]])\n"
          ]
        }
      ]
    },
    {
      "cell_type": "code",
      "metadata": {
        "colab": {
          "base_uri": "https://localhost:8080/"
        },
        "id": "zRpreTO-qzR2",
        "outputId": "68afbddf-df33-444a-d28e-957bba90cbe9"
      },
      "source": [
        "print(t.sum())\n",
        "print(t.sum(dim=0))\n",
        "print(t.sum(dim=1))\n",
        "print(t.sum(dim=-1))"
      ],
      "execution_count": null,
      "outputs": [
        {
          "output_type": "stream",
          "name": "stdout",
          "text": [
            "tensor(10.)\n",
            "tensor([4., 6.])\n",
            "tensor([3., 7.])\n",
            "tensor([3., 7.])\n"
          ]
        }
      ]
    },
    {
      "cell_type": "markdown",
      "metadata": {
        "id": "HFnL_Zxjq3v1"
      },
      "source": [
        "#### Max and Argmax"
      ]
    },
    {
      "cell_type": "code",
      "metadata": {
        "colab": {
          "base_uri": "https://localhost:8080/"
        },
        "id": "4dP7LtEWq3SU",
        "outputId": "e8cf0be5-761c-4a2b-c0c6-6a8ffe5b18f5"
      },
      "source": [
        "t = torch.FloatTensor([[1, 2], [3, 4]])\n",
        "print(t)"
      ],
      "execution_count": null,
      "outputs": [
        {
          "output_type": "stream",
          "name": "stdout",
          "text": [
            "tensor([[1., 2.],\n",
            "        [3., 4.]])\n"
          ]
        }
      ]
    },
    {
      "cell_type": "code",
      "metadata": {
        "colab": {
          "base_uri": "https://localhost:8080/"
        },
        "id": "-OpmHvD3rHzb",
        "outputId": "2e4d0cfc-f39c-447c-bff0-e988c7d5ad25"
      },
      "source": [
        "print(t.max())"
      ],
      "execution_count": null,
      "outputs": [
        {
          "output_type": "stream",
          "name": "stdout",
          "text": [
            "tensor(4.)\n"
          ]
        }
      ]
    },
    {
      "cell_type": "code",
      "metadata": {
        "colab": {
          "base_uri": "https://localhost:8080/"
        },
        "id": "gO7mrgpTrJCR",
        "outputId": "657ab442-7af0-4be6-a817-38a642539bfd"
      },
      "source": [
        "print(t.max(dim=0))\n",
        "print('Max:', t.max(dim=0)[0])\n",
        "print('Argmax:', t.max(dim=0)[1])"
      ],
      "execution_count": null,
      "outputs": [
        {
          "output_type": "stream",
          "name": "stdout",
          "text": [
            "torch.return_types.max(\n",
            "values=tensor([3., 4.]),\n",
            "indices=tensor([1, 1]))\n",
            "Max: tensor([3., 4.])\n",
            "Argmax: tensor([1, 1])\n"
          ]
        }
      ]
    },
    {
      "cell_type": "code",
      "metadata": {
        "colab": {
          "base_uri": "https://localhost:8080/"
        },
        "id": "2a_Xeg2ArH2Q",
        "outputId": "fa788bb8-7772-4175-ab7a-15a6a733b09b"
      },
      "source": [
        "print(t.max(dim=1))\n",
        "print(t.max(dim=-1))"
      ],
      "execution_count": null,
      "outputs": [
        {
          "output_type": "stream",
          "name": "stdout",
          "text": [
            "torch.return_types.max(\n",
            "values=tensor([2., 4.]),\n",
            "indices=tensor([1, 1]))\n",
            "torch.return_types.max(\n",
            "values=tensor([2., 4.]),\n",
            "indices=tensor([1, 1]))\n"
          ]
        }
      ]
    },
    {
      "cell_type": "markdown",
      "metadata": {
        "id": "Jz1_u36ErylS"
      },
      "source": [
        "#### View (Reshape)"
      ]
    },
    {
      "cell_type": "code",
      "metadata": {
        "colab": {
          "base_uri": "https://localhost:8080/"
        },
        "id": "uZz8OGW3rH4L",
        "outputId": "37e9606f-1442-4868-9c99-06e7f23326fb"
      },
      "source": [
        "t = np.array([[[0,1,2],\n",
        "               [3,4,5]],\n",
        "              \n",
        "              [[6,7,8],\n",
        "              [9,10,11]]])\n",
        "\n",
        "ft = torch.FloatTensor(t)\n",
        "print(ft.shape)"
      ],
      "execution_count": null,
      "outputs": [
        {
          "output_type": "stream",
          "name": "stdout",
          "text": [
            "torch.Size([2, 2, 3])\n"
          ]
        }
      ]
    },
    {
      "cell_type": "code",
      "metadata": {
        "colab": {
          "base_uri": "https://localhost:8080/"
        },
        "id": "Rh7KEVV7takK",
        "outputId": "99950f4f-b996-47d9-9008-f5bd714a09d3"
      },
      "source": [
        "print(ft.view([-1,3]))      # 앞은 모르겠지만 (: -1), 2차원이고 열이 3인 행으로 reshape하라\n",
        "print(ft.view([-1,3]).shape) # 4x3 = 12"
      ],
      "execution_count": null,
      "outputs": [
        {
          "output_type": "stream",
          "name": "stdout",
          "text": [
            "tensor([[ 0.,  1.,  2.],\n",
            "        [ 3.,  4.,  5.],\n",
            "        [ 6.,  7.,  8.],\n",
            "        [ 9., 10., 11.]])\n",
            "torch.Size([4, 3])\n"
          ]
        }
      ]
    },
    {
      "cell_type": "code",
      "metadata": {
        "colab": {
          "base_uri": "https://localhost:8080/"
        },
        "id": "9_MI0ih9tuGV",
        "outputId": "35ad194e-c987-4ba6-8d0a-40e81581f924"
      },
      "source": [
        "print(ft.view([-1,1,3])) #앞은 모르겠지만 (: -1), 3차원이고 나머지 차원이 (1,3)인 shape 으로 reshape\n",
        "print(ft.view([-1,1,3]).shape) # 4x1x3 = 12"
      ],
      "execution_count": null,
      "outputs": [
        {
          "output_type": "stream",
          "name": "stdout",
          "text": [
            "tensor([[[ 0.,  1.,  2.]],\n",
            "\n",
            "        [[ 3.,  4.,  5.]],\n",
            "\n",
            "        [[ 6.,  7.,  8.]],\n",
            "\n",
            "        [[ 9., 10., 11.]]])\n",
            "torch.Size([4, 1, 3])\n"
          ]
        }
      ]
    },
    {
      "cell_type": "markdown",
      "metadata": {
        "id": "GXZSXnQ8uXXl"
      },
      "source": [
        "#### Squeeze"
      ]
    },
    {
      "cell_type": "code",
      "metadata": {
        "colab": {
          "base_uri": "https://localhost:8080/"
        },
        "id": "g73oksznt8Oo",
        "outputId": "055191c6-012e-4be1-f3e1-92f7ac11f470"
      },
      "source": [
        "ft = torch.FloatTensor([[0],[1],[2]])\n",
        "print(ft)\n",
        "print(ft.shape)"
      ],
      "execution_count": null,
      "outputs": [
        {
          "output_type": "stream",
          "name": "stdout",
          "text": [
            "tensor([[0.],\n",
            "        [1.],\n",
            "        [2.]])\n",
            "torch.Size([3, 1])\n"
          ]
        }
      ]
    },
    {
      "cell_type": "code",
      "metadata": {
        "colab": {
          "base_uri": "https://localhost:8080/"
        },
        "id": "-7eyRab4uekJ",
        "outputId": "a467615c-c167-4dcc-d79e-696c2be747fc"
      },
      "source": [
        "print(ft.squeeze(dim =1))\n",
        "print(ft.squeeze().shape)"
      ],
      "execution_count": null,
      "outputs": [
        {
          "output_type": "stream",
          "name": "stdout",
          "text": [
            "tensor([0., 1., 2.])\n",
            "torch.Size([3])\n"
          ]
        }
      ]
    },
    {
      "cell_type": "markdown",
      "metadata": {
        "id": "DFFVr_emvV7J"
      },
      "source": [
        "#### Unsqueeze"
      ]
    },
    {
      "cell_type": "code",
      "metadata": {
        "colab": {
          "base_uri": "https://localhost:8080/"
        },
        "id": "Qos8-5L3vXOH",
        "outputId": "a28981d1-d469-4adc-babf-7a7865f6d668"
      },
      "source": [
        "ft = torch.Tensor([0, 1, 2])\n",
        "print(ft.shape) # (3,)"
      ],
      "execution_count": null,
      "outputs": [
        {
          "output_type": "stream",
          "name": "stdout",
          "text": [
            "torch.Size([3])\n"
          ]
        }
      ]
    },
    {
      "cell_type": "code",
      "metadata": {
        "colab": {
          "base_uri": "https://localhost:8080/"
        },
        "id": "sSncGruAvXQY",
        "outputId": "762436e5-f81c-4246-9477-998e830c18d6"
      },
      "source": [
        "print(ft.unsqueeze(0))    # dim = 0 에 1을 넣기 (3,) -> (1,3)\n",
        "print(ft.unsqueeze(0).shape)"
      ],
      "execution_count": null,
      "outputs": [
        {
          "output_type": "stream",
          "name": "stdout",
          "text": [
            "tensor([[0., 1., 2.]])\n",
            "torch.Size([1, 3])\n"
          ]
        }
      ]
    },
    {
      "cell_type": "code",
      "metadata": {
        "colab": {
          "base_uri": "https://localhost:8080/"
        },
        "id": "cSH1nLy1vXSy",
        "outputId": "1a5c8d01-e487-4afa-f0db-cd9dc08393f1"
      },
      "source": [
        "print(ft.view(1, -1)) # 뒤는 모르겠고 ( : -1 ) 2차원인데 (1, )으로 시작하는걸로 reshape\n",
        "print(ft.view(1, -1).shape)"
      ],
      "execution_count": null,
      "outputs": [
        {
          "output_type": "stream",
          "name": "stdout",
          "text": [
            "tensor([[0., 1., 2.]])\n",
            "torch.Size([1, 3])\n"
          ]
        }
      ]
    },
    {
      "cell_type": "code",
      "metadata": {
        "colab": {
          "base_uri": "https://localhost:8080/"
        },
        "id": "kaH1WOCAvXUe",
        "outputId": "ebeb3c7c-ddc9-43dc-ae8d-329cb94e1090"
      },
      "source": [
        "print(ft.unsqueeze(1))    # (3, ) => (3,1)\n",
        "print(ft.unsqueeze(1).shape)"
      ],
      "execution_count": null,
      "outputs": [
        {
          "output_type": "stream",
          "name": "stdout",
          "text": [
            "tensor([[0.],\n",
            "        [1.],\n",
            "        [2.]])\n",
            "torch.Size([3, 1])\n"
          ]
        }
      ]
    },
    {
      "cell_type": "code",
      "metadata": {
        "colab": {
          "base_uri": "https://localhost:8080/"
        },
        "id": "rzzey01TvjvL",
        "outputId": "202db0b9-2fe8-419e-ccf6-7060cb154107"
      },
      "source": [
        "print(ft.unsqueeze(-1))   # dim = -1 => dim =1   / (3, ) => (3,1)\n",
        "print(ft.unsqueeze(-1).shape)"
      ],
      "execution_count": null,
      "outputs": [
        {
          "output_type": "stream",
          "name": "stdout",
          "text": [
            "tensor([[0.],\n",
            "        [1.],\n",
            "        [2.]])\n",
            "torch.Size([3, 1])\n"
          ]
        }
      ]
    },
    {
      "cell_type": "markdown",
      "metadata": {
        "id": "D907SvvhqScJ"
      },
      "source": [
        "#### Casting"
      ]
    },
    {
      "cell_type": "code",
      "metadata": {
        "colab": {
          "base_uri": "https://localhost:8080/"
        },
        "id": "Wvfl284JwYd5",
        "outputId": "839e8471-8c75-4062-d891-98a4b2a14765"
      },
      "source": [
        "lt = torch.LongTensor([1,2,3,4])\n",
        "print(lt)"
      ],
      "execution_count": null,
      "outputs": [
        {
          "output_type": "stream",
          "name": "stdout",
          "text": [
            "tensor([1, 2, 3, 4])\n"
          ]
        }
      ]
    },
    {
      "cell_type": "code",
      "metadata": {
        "colab": {
          "base_uri": "https://localhost:8080/"
        },
        "id": "s3z6f0IuwYgJ",
        "outputId": "2b69d5c7-e0bb-4f81-8e1e-e589a03c9367"
      },
      "source": [
        "print(lt.float())"
      ],
      "execution_count": null,
      "outputs": [
        {
          "output_type": "stream",
          "name": "stdout",
          "text": [
            "tensor([1., 2., 3., 4.])\n"
          ]
        }
      ]
    },
    {
      "cell_type": "code",
      "metadata": {
        "colab": {
          "base_uri": "https://localhost:8080/"
        },
        "id": "ISc6x8JHwYis",
        "outputId": "d5ace720-e393-4f84-e940-6e0bd1c4f6d2"
      },
      "source": [
        "bt = torch.ByteTensor([True,False,False,True])\n",
        "print(bt)"
      ],
      "execution_count": null,
      "outputs": [
        {
          "output_type": "stream",
          "name": "stdout",
          "text": [
            "tensor([1, 0, 0, 1], dtype=torch.uint8)\n"
          ]
        }
      ]
    },
    {
      "cell_type": "code",
      "metadata": {
        "colab": {
          "base_uri": "https://localhost:8080/"
        },
        "id": "B8szXLflwYnN",
        "outputId": "e74f4e86-9e2e-4af2-d8cf-d56ad16e984b"
      },
      "source": [
        "print(bt.long())\n",
        "print(bt.float())"
      ],
      "execution_count": null,
      "outputs": [
        {
          "output_type": "stream",
          "name": "stdout",
          "text": [
            "tensor([1, 0, 0, 1])\n",
            "tensor([1., 0., 0., 1.])\n"
          ]
        }
      ]
    },
    {
      "cell_type": "code",
      "metadata": {
        "colab": {
          "base_uri": "https://localhost:8080/"
        },
        "id": "IggVleSkwmXY",
        "outputId": "35e7b8dd-7f62-48be-bcf7-85253e2c4c87"
      },
      "source": [
        "bt = (lt == 3)\n",
        "print(bt)"
      ],
      "execution_count": null,
      "outputs": [
        {
          "output_type": "stream",
          "name": "stdout",
          "text": [
            "tensor([False, False,  True, False])\n"
          ]
        }
      ]
    },
    {
      "cell_type": "markdown",
      "metadata": {
        "id": "s64iYtKiw3Na"
      },
      "source": [
        "#### Concatenation\n"
      ]
    },
    {
      "cell_type": "code",
      "metadata": {
        "id": "JbJmQJwlw69-"
      },
      "source": [
        "x = torch.FloatTensor([[1, 2], [3, 4]])\n",
        "y = torch.FloatTensor([[5, 6], [7, 8]])"
      ],
      "execution_count": null,
      "outputs": []
    },
    {
      "cell_type": "code",
      "metadata": {
        "colab": {
          "base_uri": "https://localhost:8080/"
        },
        "id": "NpO8gGLzw7L6",
        "outputId": "7ecf99c2-8cd7-4960-cabf-8f7104dd7e5b"
      },
      "source": [
        "print(torch.cat([x, y], dim=0))  #dim = 0 에 대해서 concatenation\n",
        "print(torch.cat([x, y], dim=1))   #dim = 1 에 대해서 concatenation"
      ],
      "execution_count": null,
      "outputs": [
        {
          "output_type": "stream",
          "name": "stdout",
          "text": [
            "tensor([[1., 2.],\n",
            "        [3., 4.],\n",
            "        [5., 6.],\n",
            "        [7., 8.]])\n",
            "tensor([[1., 2., 5., 6.],\n",
            "        [3., 4., 7., 8.]])\n"
          ]
        }
      ]
    },
    {
      "cell_type": "markdown",
      "metadata": {
        "id": "W5-ocJ2zxdR1"
      },
      "source": [
        "#### Stacking"
      ]
    },
    {
      "cell_type": "code",
      "metadata": {
        "id": "PH18oc49w7OC"
      },
      "source": [
        "x = torch.FloatTensor([1, 4])   # lxl = lyl = lzl = (2,)\n",
        "y = torch.FloatTensor([2, 5])\n",
        "z = torch.FloatTensor([3, 6])"
      ],
      "execution_count": null,
      "outputs": []
    },
    {
      "cell_type": "code",
      "metadata": {
        "colab": {
          "base_uri": "https://localhost:8080/"
        },
        "id": "HCinEDqxxg2c",
        "outputId": "ec1ecec0-8b40-4a04-bf63-1f821747d648"
      },
      "source": [
        "print(torch.stack([x, y, z]))\n",
        "print(torch.stack([x, y, z], dim=1)) # (3,2) => (2,3)"
      ],
      "execution_count": null,
      "outputs": [
        {
          "output_type": "stream",
          "name": "stdout",
          "text": [
            "tensor([[1., 4.],\n",
            "        [2., 5.],\n",
            "        [3., 6.]])\n",
            "tensor([[1., 2., 3.],\n",
            "        [4., 5., 6.]])\n"
          ]
        }
      ]
    },
    {
      "cell_type": "code",
      "metadata": {
        "colab": {
          "base_uri": "https://localhost:8080/"
        },
        "id": "YB20PAFlxg4t",
        "outputId": "3186b9fb-cf8a-4351-9125-a17fbf3339ab"
      },
      "source": [
        "print(torch.cat([x.unsqueeze(0), y.unsqueeze(0), z.unsqueeze(0)], dim=0)) # 각각 (1,2)"
      ],
      "execution_count": null,
      "outputs": [
        {
          "output_type": "stream",
          "name": "stdout",
          "text": [
            "tensor([[1., 4.],\n",
            "        [2., 5.],\n",
            "        [3., 6.]])\n"
          ]
        }
      ]
    },
    {
      "cell_type": "markdown",
      "metadata": {
        "id": "Pp3S10oIzvMC"
      },
      "source": [
        "#### Ones and Zeros Like\n"
      ]
    },
    {
      "cell_type": "code",
      "metadata": {
        "colab": {
          "base_uri": "https://localhost:8080/"
        },
        "id": "5WhVQs7bzxDl",
        "outputId": "34d2b6fe-c854-4550-ba71-265eb0e33e24"
      },
      "source": [
        "x = torch.FloatTensor([[0, 1, 2], [2, 1, 0]])\n",
        "print(x)"
      ],
      "execution_count": null,
      "outputs": [
        {
          "output_type": "stream",
          "name": "stdout",
          "text": [
            "tensor([[0., 1., 2.],\n",
            "        [2., 1., 0.]])\n"
          ]
        }
      ]
    },
    {
      "cell_type": "code",
      "metadata": {
        "colab": {
          "base_uri": "https://localhost:8080/"
        },
        "id": "iocgn_oXzxF9",
        "outputId": "8f9e081a-3b57-4f5f-fa96-f5d6ba288490"
      },
      "source": [
        "print(torch.ones_like(x)) # lxl = (2,3)\n",
        "print(torch.zeros_like(x)) "
      ],
      "execution_count": null,
      "outputs": [
        {
          "output_type": "stream",
          "name": "stdout",
          "text": [
            "tensor([[1., 1., 1.],\n",
            "        [1., 1., 1.]])\n",
            "tensor([[0., 0., 0.],\n",
            "        [0., 0., 0.]])\n"
          ]
        }
      ]
    },
    {
      "cell_type": "markdown",
      "metadata": {
        "id": "M4KRpaIG9lQN"
      },
      "source": [
        "#### In-place Operation\n"
      ]
    },
    {
      "cell_type": "code",
      "metadata": {
        "id": "_q4DJBUazxJV"
      },
      "source": [
        "x = torch.FloatTensor([[1, 2], [3, 4]])"
      ],
      "execution_count": null,
      "outputs": []
    },
    {
      "cell_type": "code",
      "metadata": {
        "colab": {
          "base_uri": "https://localhost:8080/"
        },
        "id": "cSK2Tds-zxLM",
        "outputId": "1060cdf2-86b8-4b51-c3e6-889640e75d3a"
      },
      "source": [
        "print(x.mul(2.))\n",
        "print(x)\n",
        "print(x.mul_(2.))   #반영하기\n",
        "print(x)"
      ],
      "execution_count": null,
      "outputs": [
        {
          "output_type": "stream",
          "name": "stdout",
          "text": [
            "tensor([[2., 4.],\n",
            "        [6., 8.]])\n",
            "tensor([[1., 2.],\n",
            "        [3., 4.]])\n",
            "tensor([[2., 4.],\n",
            "        [6., 8.]])\n",
            "tensor([[2., 4.],\n",
            "        [6., 8.]])\n"
          ]
        }
      ]
    }
  ]
}