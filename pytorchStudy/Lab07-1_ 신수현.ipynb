{
 "cells": [
  {
   "cell_type": "markdown",
   "metadata": {},
   "source": [
    "## Lab 7-1: Tips"
   ]
  },
  {
   "cell_type": "code",
   "execution_count": 2,
   "metadata": {},
   "outputs": [],
   "source": [
    "import torch\n",
    "import torch.nn as nn\n",
    "import torch.nn.functional as F\n",
    "import torch.optim as optim"
   ]
  },
  {
   "cell_type": "code",
   "execution_count": 3,
   "metadata": {},
   "outputs": [
    {
     "data": {
      "text/plain": [
       "<torch._C.Generator at 0x7f974d161cc0>"
      ]
     },
     "execution_count": 3,
     "metadata": {},
     "output_type": "execute_result"
    }
   ],
   "source": [
    "# For reproducibility\n",
    "torch.manual_seed(1)"
   ]
  },
  {
   "cell_type": "markdown",
   "metadata": {},
   "source": [
    "#### Training and Test Datasets\n"
   ]
  },
  {
   "cell_type": "code",
   "execution_count": 4,
   "metadata": {},
   "outputs": [],
   "source": [
    "x_train = torch.FloatTensor([[1, 2, 1],\n",
    "                             [1, 3, 2],\n",
    "                             [1, 3, 4],\n",
    "                             [1, 5, 5],\n",
    "                             [1, 7, 5],\n",
    "                             [1, 2, 5],\n",
    "                             [1, 6, 6],\n",
    "                             [1, 7, 7]\n",
    "                            ])\n",
    "y_train = torch.LongTensor([2, 2, 2, 1, 1, 1, 0, 0]) #정답"
   ]
  },
  {
   "cell_type": "code",
   "execution_count": 9,
   "metadata": {},
   "outputs": [
    {
     "name": "stdout",
     "output_type": "stream",
     "text": [
      "tensor([2, 2, 2]) torch.Size([3])\n",
      "tensor([[2., 1., 1.],\n",
      "        [3., 1., 2.],\n",
      "        [3., 3., 4.]]) torch.Size([3, 3])\n"
     ]
    }
   ],
   "source": [
    "x_test = torch.FloatTensor([[2, 1, 1], \n",
    "                            [3, 1, 2], \n",
    "                            [3, 3, 4]])\n",
    "y_test = torch.LongTensor([2, 2, 2])\n",
    "\n",
    "print(y_test, y_test.shape) #정답\n",
    "print(x_test, x_test.shape)"
   ]
  },
  {
   "cell_type": "markdown",
   "metadata": {},
   "source": [
    "### Model"
   ]
  },
  {
   "cell_type": "code",
   "execution_count": 16,
   "metadata": {},
   "outputs": [],
   "source": [
    "class SoftmaxClassifierModel(nn.Module):\n",
    "    def __init__(self):\n",
    "        super().__init__()\n",
    "        self.linear = nn.Linear(3,3)  # x의 특성이 3개, ouput 개수는 3개 -->(3,3)\n",
    "    def forward(self,x):\n",
    "        return self.linear(x)"
   ]
  },
  {
   "cell_type": "code",
   "execution_count": 17,
   "metadata": {},
   "outputs": [],
   "source": [
    "model = SoftmaxClassifierModel()"
   ]
  },
  {
   "cell_type": "code",
   "execution_count": 18,
   "metadata": {},
   "outputs": [],
   "source": [
    "#optimizer 설정\n",
    "optimizer = optim.SGD(model.parameters(), lr = 0.1)"
   ]
  },
  {
   "cell_type": "code",
   "execution_count": 42,
   "metadata": {},
   "outputs": [],
   "source": [
    "def train(model, optimizer, x_train, y_train):\n",
    "    nb_epochs =20\n",
    "    \n",
    "    for epoch in range(nb_epochs):\n",
    "        \n",
    "        #H(x)계산\n",
    "        prediction = model(x_train)\n",
    "        \n",
    "        #cost 계산\n",
    "        cost = F.cross_entropy(prediction, y_train)\n",
    "        \n",
    "        #cost로 h(x) 개선하기\n",
    "        optimizer.zero_grad()\n",
    "        cost.backward()\n",
    "        optimizer.step()\n",
    "        \n",
    "        print('Epoch {:4d}/{} Cost: {:.6f}'.format(\n",
    "            epoch, nb_epochs, cost.item()\n",
    "        ))\n",
    "        \n",
    "def test(model, optimizer, x_test, y_test):\n",
    "    prediction = model(x_test)\n",
    "    predicted_classes = prediction.max(1)[1]\n",
    "    print('prediction의 값')\n",
    "    print(prediction)\n",
    "    print('\\n prediction.max(1)의 값')\n",
    "    print(prediction.max(1))\n",
    "    print('\\n prediction.max(1)[0]의 값')\n",
    "    print(prediction.max(1)[0])\n",
    "    print('\\n prediction.max(1)[1]의 값')\n",
    "    print(predicted_classes)\n",
    "    \n",
    "    correct_count = (predicted_classes == y_test).sum().item() #맞은 개수\n",
    "    cost = F.cross_entropy(prediction, y_test) #cost 함수\n",
    "    \n",
    "    print('\\n Accuracy: {}% Cost: {:.6f}'.format(\n",
    "         correct_count / len(y_test) * 100, cost.item()\n",
    "    ))"
   ]
  },
  {
   "cell_type": "code",
   "execution_count": 43,
   "metadata": {},
   "outputs": [
    {
     "name": "stdout",
     "output_type": "stream",
     "text": [
      "Epoch    0/20 Cost: 0.666434\n",
      "Epoch    1/20 Cost: 0.665238\n",
      "Epoch    2/20 Cost: 0.664053\n",
      "Epoch    3/20 Cost: 0.662877\n",
      "Epoch    4/20 Cost: 0.661712\n",
      "Epoch    5/20 Cost: 0.660556\n",
      "Epoch    6/20 Cost: 0.659409\n",
      "Epoch    7/20 Cost: 0.658273\n",
      "Epoch    8/20 Cost: 0.657145\n",
      "Epoch    9/20 Cost: 0.656027\n",
      "Epoch   10/20 Cost: 0.654917\n",
      "Epoch   11/20 Cost: 0.653817\n",
      "Epoch   12/20 Cost: 0.652726\n",
      "Epoch   13/20 Cost: 0.651643\n",
      "Epoch   14/20 Cost: 0.650568\n",
      "Epoch   15/20 Cost: 0.649502\n",
      "Epoch   16/20 Cost: 0.648444\n",
      "Epoch   17/20 Cost: 0.647395\n",
      "Epoch   18/20 Cost: 0.646353\n",
      "Epoch   19/20 Cost: 0.645320\n"
     ]
    }
   ],
   "source": [
    "train(model, optimizer, x_train,y_train)"
   ]
  },
  {
   "cell_type": "code",
   "execution_count": 44,
   "metadata": {},
   "outputs": [
    {
     "name": "stdout",
     "output_type": "stream",
     "text": [
      "prediction의 값\n",
      "tensor([[-2.3951, -0.5665,  3.3732],\n",
      "        [-2.9070, -0.6166,  4.3394],\n",
      "        [-2.1887, -0.4207,  2.9832]], grad_fn=<AddmmBackward>)\n",
      "\n",
      " prediction.max(1)의 값\n",
      "torch.return_types.max(\n",
      "values=tensor([3.3732, 4.3394, 2.9832], grad_fn=<MaxBackward0>),\n",
      "indices=tensor([2, 2, 2]))\n",
      "\n",
      " prediction.max(1)[0]의 값\n",
      "tensor([3.3732, 4.3394, 2.9832], grad_fn=<MaxBackward0>)\n",
      "\n",
      " prediction.max(1)[1]의 값\n",
      "tensor([2, 2, 2])\n",
      "\n",
      " Accuracy: 100.0% Cost: 0.022744\n"
     ]
    }
   ],
   "source": [
    "test(model, optimizer, x_test, y_test)"
   ]
  },
  {
   "cell_type": "markdown",
   "metadata": {},
   "source": [
    "### Learning Rate"
   ]
  },
  {
   "cell_type": "markdown",
   "metadata": {},
   "source": [
    "Gradient Descent 에서의 $\\alpha$ 값\n",
    "\n",
    "optimizer = optim.SGD(model.parameters(), lr=0.1) 에서 lr=0.1 이다\n",
    "\n",
    "learning rate이 너무 크면 diverge 하면서 cost 가 점점 늘어난다 (overshooting)."
   ]
  },
  {
   "cell_type": "markdown",
   "metadata": {},
   "source": [
    "##### 반면에 learning rate이 너무 작으면 cost가 거의 줄어들지 않는다.\n",
    "\n",
    "#### 보통 learning rate 은 0.1!!"
   ]
  },
  {
   "cell_type": "markdown",
   "metadata": {},
   "source": [
    "### Data Preprocessing (데이터 전처리)\n"
   ]
  },
  {
   "cell_type": "code",
   "execution_count": 46,
   "metadata": {},
   "outputs": [],
   "source": [
    "x_train = torch.FloatTensor([[73, 80, 75],\n",
    "                             [93, 88, 93],\n",
    "                             [89, 91, 90],\n",
    "                             [96, 98, 100],\n",
    "                             [73, 66, 70]])\n",
    "y_train = torch.FloatTensor([[152], [185], [180], [196], [142]])"
   ]
  },
  {
   "cell_type": "markdown",
   "metadata": {},
   "source": [
    "데이터를 zero-center하고 normalize하자.\n",
    "\n",
    "여기서 $\\sigma$ 는 standard deviation, $\\mu$ 는 평균값 이다"
   ]
  },
  {
   "cell_type": "code",
   "execution_count": 48,
   "metadata": {},
   "outputs": [],
   "source": [
    "mu = x_train.mean(dim=0)"
   ]
  },
  {
   "cell_type": "code",
   "execution_count": 49,
   "metadata": {},
   "outputs": [],
   "source": [
    "sigma = x_train.std(dim=0)"
   ]
  },
  {
   "cell_type": "code",
   "execution_count": 52,
   "metadata": {},
   "outputs": [
    {
     "name": "stdout",
     "output_type": "stream",
     "text": [
      "tensor([[-1.0674, -0.3758, -0.8398],\n",
      "        [ 0.7418,  0.2778,  0.5863],\n",
      "        [ 0.3799,  0.5229,  0.3486],\n",
      "        [ 1.0132,  1.0948,  1.1409],\n",
      "        [-1.0674, -1.5197, -1.2360]])\n"
     ]
    }
   ],
   "source": [
    "#정규화하는 작업\n",
    "\n",
    "norm_x_train = (x_train - mu) / sigma\n",
    "print(norm_x_train)"
   ]
  },
  {
   "cell_type": "code",
   "execution_count": 53,
   "metadata": {},
   "outputs": [],
   "source": [
    "class MultivariateLinearRegressionModel(nn.Module):\n",
    "    def __init__(self):\n",
    "        super().__init__()\n",
    "        self.linear = nn.Linear(3, 1)\n",
    "\n",
    "    def forward(self, x):\n",
    "        return self.linear(x)"
   ]
  },
  {
   "cell_type": "code",
   "execution_count": 55,
   "metadata": {},
   "outputs": [],
   "source": [
    "model = MultivariateLinearRegressionModel()\n",
    "optimizer = optim.SGD(model.parameters(), lr=1e-1)"
   ]
  },
  {
   "cell_type": "code",
   "execution_count": 56,
   "metadata": {},
   "outputs": [],
   "source": [
    "def train(model, optimizer, x_train, y_train):\n",
    "    nb_epochs = 20\n",
    "    for epoch in range(nb_epochs):\n",
    "\n",
    "        # H(x) 계산\n",
    "        prediction = model(x_train)\n",
    "\n",
    "        # cost 계산\n",
    "        cost = F.mse_loss(prediction, y_train)\n",
    "\n",
    "        # cost로 H(x) 개선\n",
    "        optimizer.zero_grad()\n",
    "        cost.backward()\n",
    "        optimizer.step()\n",
    "\n",
    "        print('Epoch {:4d}/{} Cost: {:.6f}'.format(\n",
    "            epoch, nb_epochs, cost.item()\n",
    "        ))"
   ]
  },
  {
   "cell_type": "code",
   "execution_count": 57,
   "metadata": {},
   "outputs": [
    {
     "name": "stdout",
     "output_type": "stream",
     "text": [
      "Epoch    0/20 Cost: 29476.849609\n",
      "Epoch    1/20 Cost: 18718.511719\n",
      "Epoch    2/20 Cost: 11937.442383\n",
      "Epoch    3/20 Cost: 7627.894531\n",
      "Epoch    4/20 Cost: 4878.606445\n",
      "Epoch    5/20 Cost: 3121.619873\n",
      "Epoch    6/20 Cost: 1997.883789\n",
      "Epoch    7/20 Cost: 1278.898926\n",
      "Epoch    8/20 Cost: 818.800293\n",
      "Epoch    9/20 Cost: 524.344238\n",
      "Epoch   10/20 Cost: 335.887543\n",
      "Epoch   11/20 Cost: 215.266602\n",
      "Epoch   12/20 Cost: 138.059769\n",
      "Epoch   13/20 Cost: 88.637863\n",
      "Epoch   14/20 Cost: 56.998798\n",
      "Epoch   15/20 Cost: 36.740959\n",
      "Epoch   16/20 Cost: 23.767536\n",
      "Epoch   17/20 Cost: 15.456335\n",
      "Epoch   18/20 Cost: 10.129311\n",
      "Epoch   19/20 Cost: 6.712480\n"
     ]
    }
   ],
   "source": [
    "train(model, optimizer, norm_x_train, y_train)"
   ]
  },
  {
   "cell_type": "markdown",
   "metadata": {},
   "source": [
    "### Overfitting"
   ]
  },
  {
   "cell_type": "markdown",
   "metadata": {},
   "source": [
    "너무 학습 데이터에 한해 잘 학습해 테스트 데이터에 좋은 성능을 내지 못할 수도 있다.\n",
    "\n"
   ]
  },
  {
   "cell_type": "markdown",
   "metadata": {},
   "source": [
    "이것을 방지하는 방법은 크게 세 가지:\n",
    "\n",
    "- 더 많은 학습 데이터\n",
    "- 더 적은 양의 feature\n",
    "- Regularization (너무 큰 숫자를 가중치에 두지 말자)"
   ]
  },
  {
   "cell_type": "code",
   "execution_count": 59,
   "metadata": {},
   "outputs": [],
   "source": [
    "def train_with_regularization(model, optimizer, x_train, y_train):\n",
    "    nb_epochs = 20\n",
    "    for epoch in range(nb_epochs):\n",
    "\n",
    "        # H(x) 계산\n",
    "        prediction = model(x_train)\n",
    "\n",
    "        # cost 계산\n",
    "        cost = F.mse_loss(prediction, y_train)\n",
    "        \n",
    "        # l2 norm 계산\n",
    "        l2_reg = 0\n",
    "        for param in model.parameters():\n",
    "            l2_reg += torch.norm(param)\n",
    "            \n",
    "        cost += l2_reg\n",
    "\n",
    "        # cost로 H(x) 개선\n",
    "        optimizer.zero_grad()\n",
    "        cost.backward()\n",
    "        optimizer.step()\n",
    "\n",
    "        print('Epoch {:4d}/{} Cost: {:.6f}'.format(\n",
    "            epoch+1, nb_epochs, cost.item()\n",
    "        ))"
   ]
  },
  {
   "cell_type": "code",
   "execution_count": 61,
   "metadata": {},
   "outputs": [
    {
     "name": "stdout",
     "output_type": "stream",
     "text": [
      "Epoch    1/20 Cost: 187.072037\n",
      "Epoch    2/20 Cost: 186.205078\n",
      "Epoch    3/20 Cost: 185.671631\n",
      "Epoch    4/20 Cost: 185.332962\n",
      "Epoch    5/20 Cost: 185.113693\n",
      "Epoch    6/20 Cost: 184.969498\n",
      "Epoch    7/20 Cost: 184.873093\n",
      "Epoch    8/20 Cost: 184.807373\n",
      "Epoch    9/20 Cost: 184.761459\n",
      "Epoch   10/20 Cost: 184.728424\n",
      "Epoch   11/20 Cost: 184.703812\n",
      "Epoch   12/20 Cost: 184.684753\n",
      "Epoch   13/20 Cost: 184.669449\n",
      "Epoch   14/20 Cost: 184.656708\n",
      "Epoch   15/20 Cost: 184.645737\n",
      "Epoch   16/20 Cost: 184.636063\n",
      "Epoch   17/20 Cost: 184.627380\n",
      "Epoch   18/20 Cost: 184.619415\n",
      "Epoch   19/20 Cost: 184.612076\n",
      "Epoch   20/20 Cost: 184.605240\n"
     ]
    }
   ],
   "source": [
    "train_with_regularization(model, optimizer, norm_x_train, y_train)"
   ]
  }
 ],
 "metadata": {
  "kernelspec": {
   "display_name": "sh_python",
   "language": "python",
   "name": "sh_python"
  },
  "language_info": {
   "codemirror_mode": {
    "name": "ipython",
    "version": 3
   },
   "file_extension": ".py",
   "mimetype": "text/x-python",
   "name": "python",
   "nbconvert_exporter": "python",
   "pygments_lexer": "ipython3",
   "version": "3.6.10"
  }
 },
 "nbformat": 4,
 "nbformat_minor": 2
}
